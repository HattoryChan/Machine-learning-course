{
 "cells": [
  {
   "cell_type": "code",
   "execution_count": 1,
   "metadata": {},
   "outputs": [],
   "source": [
    "#Math and Statistic\n",
    "import numpy as np\n",
    "from sklearn.metrics import accuracy_score, roc_auc_score, confusion_matrix\n",
    "from sklearn.model_selection import cross_val_score, GridSearchCV, RandomizedSearchCV, train_test_split, KFold\n",
    "\n",
    "#Visualization\n",
    "import seaborn as sns\n",
    "import matplotlib.pyplot as plt\n",
    "import pandas as pd\n",
    "from tqdm import tnrange, tqdm_notebook\n",
    "from xgboost import plot_importance\n",
    "\n",
    "\n",
    "#Future engineering\n",
    "from sklearn.preprocessing import StandardScaler, OneHotEncoder, LabelEncoder\n",
    "from scipy.stats import uniform, randint\n",
    "\n",
    "#Decision model\n",
    "from sklearn.tree import DecisionTreeClassifier\n",
    "from sklearn.model_selection import GridSearchCV\n",
    "import xgboost as xgb\n",
    "\n",
    "import inspect"
   ]
  },
  {
   "cell_type": "code",
   "execution_count": 40,
   "metadata": {},
   "outputs": [],
   "source": [
    "import warnings\n",
    "warnings.filterwarnings('ignore')"
   ]
  },
  {
   "cell_type": "markdown",
   "metadata": {},
   "source": [
    "## Work with data"
   ]
  },
  {
   "cell_type": "code",
   "execution_count": 524,
   "metadata": {},
   "outputs": [],
   "source": [
    "#make a test copy\n",
    "df_player = pd.read_csv('FootballKaggleData/players.csv')\n",
    "df_train_r = pd.read_csv('FootballKaggleData/train.csv', index_col = 'id')\n",
    "df_test_r = pd.read_csv('FootballKaggleData/test.csv',  index_col = 'id')"
   ]
  },
  {
   "cell_type": "markdown",
   "metadata": {},
   "source": [
    "#### BackUp data"
   ]
  },
  {
   "cell_type": "code",
   "execution_count": 525,
   "metadata": {},
   "outputs": [],
   "source": [
    "df_train_fe = df_train_r[:]\n",
    "df_player_fe = df_player[:]\n",
    "df_test_fe = df_test_r[:]"
   ]
  },
  {
   "cell_type": "code",
   "execution_count": 526,
   "metadata": {},
   "outputs": [
    {
     "data": {
      "text/plain": [
       "((8786, 54), (7190, 53), (183978, 40))"
      ]
     },
     "execution_count": 526,
     "metadata": {},
     "output_type": "execute_result"
    }
   ],
   "source": [
    "df_train_fe.shape, df_test_fe.shape, df_player_fe.shape"
   ]
  },
  {
   "cell_type": "markdown",
   "metadata": {},
   "source": [
    "###  Show me"
   ]
  },
  {
   "cell_type": "code",
   "execution_count": 527,
   "metadata": {},
   "outputs": [
    {
     "data": {
      "text/html": [
       "<div>\n",
       "<style scoped>\n",
       "    .dataframe tbody tr th:only-of-type {\n",
       "        vertical-align: middle;\n",
       "    }\n",
       "\n",
       "    .dataframe tbody tr th {\n",
       "        vertical-align: top;\n",
       "    }\n",
       "\n",
       "    .dataframe thead th {\n",
       "        text-align: right;\n",
       "    }\n",
       "</style>\n",
       "<table border=\"1\" class=\"dataframe\">\n",
       "  <thead>\n",
       "    <tr style=\"text-align: right;\">\n",
       "      <th></th>\n",
       "      <th>player_api_id</th>\n",
       "      <th>date</th>\n",
       "      <th>overall_rating</th>\n",
       "      <th>potential</th>\n",
       "      <th>preferred_foot</th>\n",
       "      <th>attacking_work_rate</th>\n",
       "      <th>defensive_work_rate</th>\n",
       "      <th>crossing</th>\n",
       "      <th>finishing</th>\n",
       "      <th>heading_accuracy</th>\n",
       "      <th>...</th>\n",
       "      <th>vision</th>\n",
       "      <th>penalties</th>\n",
       "      <th>marking</th>\n",
       "      <th>standing_tackle</th>\n",
       "      <th>sliding_tackle</th>\n",
       "      <th>gk_diving</th>\n",
       "      <th>gk_handling</th>\n",
       "      <th>gk_kicking</th>\n",
       "      <th>gk_positioning</th>\n",
       "      <th>gk_reflexes</th>\n",
       "    </tr>\n",
       "  </thead>\n",
       "  <tbody>\n",
       "    <tr>\n",
       "      <th>0</th>\n",
       "      <td>505942</td>\n",
       "      <td>2016-02-18 00:00:00</td>\n",
       "      <td>67.0</td>\n",
       "      <td>71.0</td>\n",
       "      <td>right</td>\n",
       "      <td>medium</td>\n",
       "      <td>medium</td>\n",
       "      <td>49.0</td>\n",
       "      <td>44.0</td>\n",
       "      <td>71.0</td>\n",
       "      <td>...</td>\n",
       "      <td>54.0</td>\n",
       "      <td>48.0</td>\n",
       "      <td>65.0</td>\n",
       "      <td>69.0</td>\n",
       "      <td>69.0</td>\n",
       "      <td>6.0</td>\n",
       "      <td>11.0</td>\n",
       "      <td>10.0</td>\n",
       "      <td>8.0</td>\n",
       "      <td>8.0</td>\n",
       "    </tr>\n",
       "    <tr>\n",
       "      <th>1</th>\n",
       "      <td>505942</td>\n",
       "      <td>2015-11-19 00:00:00</td>\n",
       "      <td>67.0</td>\n",
       "      <td>71.0</td>\n",
       "      <td>right</td>\n",
       "      <td>medium</td>\n",
       "      <td>medium</td>\n",
       "      <td>49.0</td>\n",
       "      <td>44.0</td>\n",
       "      <td>71.0</td>\n",
       "      <td>...</td>\n",
       "      <td>54.0</td>\n",
       "      <td>48.0</td>\n",
       "      <td>65.0</td>\n",
       "      <td>69.0</td>\n",
       "      <td>69.0</td>\n",
       "      <td>6.0</td>\n",
       "      <td>11.0</td>\n",
       "      <td>10.0</td>\n",
       "      <td>8.0</td>\n",
       "      <td>8.0</td>\n",
       "    </tr>\n",
       "  </tbody>\n",
       "</table>\n",
       "<p>2 rows × 40 columns</p>\n",
       "</div>"
      ],
      "text/plain": [
       "   player_api_id                 date  overall_rating  potential  \\\n",
       "0         505942  2016-02-18 00:00:00            67.0       71.0   \n",
       "1         505942  2015-11-19 00:00:00            67.0       71.0   \n",
       "\n",
       "  preferred_foot attacking_work_rate defensive_work_rate  crossing  finishing  \\\n",
       "0          right              medium              medium      49.0       44.0   \n",
       "1          right              medium              medium      49.0       44.0   \n",
       "\n",
       "   heading_accuracy  ...  vision  penalties  marking  standing_tackle  \\\n",
       "0              71.0  ...    54.0       48.0     65.0             69.0   \n",
       "1              71.0  ...    54.0       48.0     65.0             69.0   \n",
       "\n",
       "   sliding_tackle  gk_diving  gk_handling  gk_kicking  gk_positioning  \\\n",
       "0            69.0        6.0         11.0        10.0             8.0   \n",
       "1            69.0        6.0         11.0        10.0             8.0   \n",
       "\n",
       "   gk_reflexes  \n",
       "0          8.0  \n",
       "1          8.0  \n",
       "\n",
       "[2 rows x 40 columns]"
      ]
     },
     "execution_count": 527,
     "metadata": {},
     "output_type": "execute_result"
    }
   ],
   "source": [
    "df_player.head(2)"
   ]
  },
  {
   "cell_type": "code",
   "execution_count": 528,
   "metadata": {},
   "outputs": [
    {
     "data": {
      "text/html": [
       "<div>\n",
       "<style scoped>\n",
       "    .dataframe tbody tr th:only-of-type {\n",
       "        vertical-align: middle;\n",
       "    }\n",
       "\n",
       "    .dataframe tbody tr th {\n",
       "        vertical-align: top;\n",
       "    }\n",
       "\n",
       "    .dataframe thead th {\n",
       "        text-align: right;\n",
       "    }\n",
       "</style>\n",
       "<table border=\"1\" class=\"dataframe\">\n",
       "  <thead>\n",
       "    <tr style=\"text-align: right;\">\n",
       "      <th></th>\n",
       "      <th>home_player_1</th>\n",
       "      <th>home_player_2</th>\n",
       "      <th>home_player_3</th>\n",
       "      <th>home_player_4</th>\n",
       "      <th>home_player_5</th>\n",
       "      <th>home_player_6</th>\n",
       "      <th>home_player_7</th>\n",
       "      <th>home_player_8</th>\n",
       "      <th>home_player_9</th>\n",
       "      <th>home_player_10</th>\n",
       "      <th>...</th>\n",
       "      <th>VCD</th>\n",
       "      <th>VCA</th>\n",
       "      <th>GBH</th>\n",
       "      <th>GBD</th>\n",
       "      <th>GBA</th>\n",
       "      <th>BSH</th>\n",
       "      <th>BSD</th>\n",
       "      <th>BSA</th>\n",
       "      <th>year</th>\n",
       "      <th>win_team</th>\n",
       "    </tr>\n",
       "    <tr>\n",
       "      <th>id</th>\n",
       "      <th></th>\n",
       "      <th></th>\n",
       "      <th></th>\n",
       "      <th></th>\n",
       "      <th></th>\n",
       "      <th></th>\n",
       "      <th></th>\n",
       "      <th></th>\n",
       "      <th></th>\n",
       "      <th></th>\n",
       "      <th></th>\n",
       "      <th></th>\n",
       "      <th></th>\n",
       "      <th></th>\n",
       "      <th></th>\n",
       "      <th></th>\n",
       "      <th></th>\n",
       "      <th></th>\n",
       "      <th></th>\n",
       "      <th></th>\n",
       "      <th></th>\n",
       "    </tr>\n",
       "  </thead>\n",
       "  <tbody>\n",
       "    <tr>\n",
       "      <th>0</th>\n",
       "      <td>25524</td>\n",
       "      <td>30668</td>\n",
       "      <td>27293</td>\n",
       "      <td>37787</td>\n",
       "      <td>25565</td>\n",
       "      <td>30598</td>\n",
       "      <td>30749</td>\n",
       "      <td>30987</td>\n",
       "      <td>21164</td>\n",
       "      <td>30496</td>\n",
       "      <td>...</td>\n",
       "      <td>3.75</td>\n",
       "      <td>6.50</td>\n",
       "      <td>1.44</td>\n",
       "      <td>3.75</td>\n",
       "      <td>8.0</td>\n",
       "      <td>1.44</td>\n",
       "      <td>3.75</td>\n",
       "      <td>7.0</td>\n",
       "      <td>2008</td>\n",
       "      <td>1</td>\n",
       "    </tr>\n",
       "    <tr>\n",
       "      <th>1</th>\n",
       "      <td>41671</td>\n",
       "      <td>18823</td>\n",
       "      <td>25526</td>\n",
       "      <td>46078</td>\n",
       "      <td>25587</td>\n",
       "      <td>181995</td>\n",
       "      <td>175646</td>\n",
       "      <td>177874</td>\n",
       "      <td>50189</td>\n",
       "      <td>32748</td>\n",
       "      <td>...</td>\n",
       "      <td>3.40</td>\n",
       "      <td>4.75</td>\n",
       "      <td>0.00</td>\n",
       "      <td>0.00</td>\n",
       "      <td>0.0</td>\n",
       "      <td>0.00</td>\n",
       "      <td>0.00</td>\n",
       "      <td>0.0</td>\n",
       "      <td>2016</td>\n",
       "      <td>0</td>\n",
       "    </tr>\n",
       "  </tbody>\n",
       "</table>\n",
       "<p>2 rows × 54 columns</p>\n",
       "</div>"
      ],
      "text/plain": [
       "    home_player_1  home_player_2  home_player_3  home_player_4  home_player_5  \\\n",
       "id                                                                              \n",
       "0           25524          30668          27293          37787          25565   \n",
       "1           41671          18823          25526          46078          25587   \n",
       "\n",
       "    home_player_6  home_player_7  home_player_8  home_player_9  \\\n",
       "id                                                               \n",
       "0           30598          30749          30987          21164   \n",
       "1          181995         175646         177874          50189   \n",
       "\n",
       "    home_player_10  ...   VCD   VCA   GBH   GBD  GBA   BSH   BSD  BSA  year  \\\n",
       "id                  ...                                                       \n",
       "0            30496  ...  3.75  6.50  1.44  3.75  8.0  1.44  3.75  7.0  2008   \n",
       "1            32748  ...  3.40  4.75  0.00  0.00  0.0  0.00  0.00  0.0  2016   \n",
       "\n",
       "    win_team  \n",
       "id            \n",
       "0          1  \n",
       "1          0  \n",
       "\n",
       "[2 rows x 54 columns]"
      ]
     },
     "execution_count": 528,
     "metadata": {},
     "output_type": "execute_result"
    }
   ],
   "source": [
    "df_train_fe.head(2)"
   ]
  },
  {
   "cell_type": "code",
   "execution_count": 529,
   "metadata": {},
   "outputs": [
    {
     "data": {
      "text/html": [
       "<div>\n",
       "<style scoped>\n",
       "    .dataframe tbody tr th:only-of-type {\n",
       "        vertical-align: middle;\n",
       "    }\n",
       "\n",
       "    .dataframe tbody tr th {\n",
       "        vertical-align: top;\n",
       "    }\n",
       "\n",
       "    .dataframe thead th {\n",
       "        text-align: right;\n",
       "    }\n",
       "</style>\n",
       "<table border=\"1\" class=\"dataframe\">\n",
       "  <thead>\n",
       "    <tr style=\"text-align: right;\">\n",
       "      <th></th>\n",
       "      <th>home_player_1</th>\n",
       "      <th>home_player_2</th>\n",
       "      <th>home_player_3</th>\n",
       "      <th>home_player_4</th>\n",
       "      <th>home_player_5</th>\n",
       "      <th>home_player_6</th>\n",
       "      <th>home_player_7</th>\n",
       "      <th>home_player_8</th>\n",
       "      <th>home_player_9</th>\n",
       "      <th>home_player_10</th>\n",
       "      <th>...</th>\n",
       "      <th>VCH</th>\n",
       "      <th>VCD</th>\n",
       "      <th>VCA</th>\n",
       "      <th>GBH</th>\n",
       "      <th>GBD</th>\n",
       "      <th>GBA</th>\n",
       "      <th>BSH</th>\n",
       "      <th>BSD</th>\n",
       "      <th>BSA</th>\n",
       "      <th>year</th>\n",
       "    </tr>\n",
       "    <tr>\n",
       "      <th>id</th>\n",
       "      <th></th>\n",
       "      <th></th>\n",
       "      <th></th>\n",
       "      <th></th>\n",
       "      <th></th>\n",
       "      <th></th>\n",
       "      <th></th>\n",
       "      <th></th>\n",
       "      <th></th>\n",
       "      <th></th>\n",
       "      <th></th>\n",
       "      <th></th>\n",
       "      <th></th>\n",
       "      <th></th>\n",
       "      <th></th>\n",
       "      <th></th>\n",
       "      <th></th>\n",
       "      <th></th>\n",
       "      <th></th>\n",
       "      <th></th>\n",
       "      <th></th>\n",
       "    </tr>\n",
       "  </thead>\n",
       "  <tbody>\n",
       "    <tr>\n",
       "      <th>0</th>\n",
       "      <td>37421</td>\n",
       "      <td>56846</td>\n",
       "      <td>33960</td>\n",
       "      <td>282676</td>\n",
       "      <td>47565</td>\n",
       "      <td>102622</td>\n",
       "      <td>205278</td>\n",
       "      <td>75342</td>\n",
       "      <td>99047</td>\n",
       "      <td>184138</td>\n",
       "      <td>...</td>\n",
       "      <td>1.85</td>\n",
       "      <td>3.7</td>\n",
       "      <td>4.75</td>\n",
       "      <td>1.83</td>\n",
       "      <td>3.6</td>\n",
       "      <td>4.4</td>\n",
       "      <td>1.83</td>\n",
       "      <td>3.4</td>\n",
       "      <td>4.0</td>\n",
       "      <td>2012</td>\n",
       "    </tr>\n",
       "    <tr>\n",
       "      <th>1</th>\n",
       "      <td>150242</td>\n",
       "      <td>566158</td>\n",
       "      <td>157630</td>\n",
       "      <td>109649</td>\n",
       "      <td>40662</td>\n",
       "      <td>150119</td>\n",
       "      <td>278473</td>\n",
       "      <td>215226</td>\n",
       "      <td>207243</td>\n",
       "      <td>303059</td>\n",
       "      <td>...</td>\n",
       "      <td>1.13</td>\n",
       "      <td>9.0</td>\n",
       "      <td>21.00</td>\n",
       "      <td>0.00</td>\n",
       "      <td>0.0</td>\n",
       "      <td>0.0</td>\n",
       "      <td>0.00</td>\n",
       "      <td>0.0</td>\n",
       "      <td>0.0</td>\n",
       "      <td>2015</td>\n",
       "    </tr>\n",
       "  </tbody>\n",
       "</table>\n",
       "<p>2 rows × 53 columns</p>\n",
       "</div>"
      ],
      "text/plain": [
       "    home_player_1  home_player_2  home_player_3  home_player_4  home_player_5  \\\n",
       "id                                                                              \n",
       "0           37421          56846          33960         282676          47565   \n",
       "1          150242         566158         157630         109649          40662   \n",
       "\n",
       "    home_player_6  home_player_7  home_player_8  home_player_9  \\\n",
       "id                                                               \n",
       "0          102622         205278          75342          99047   \n",
       "1          150119         278473         215226         207243   \n",
       "\n",
       "    home_player_10  ...   VCH  VCD    VCA   GBH  GBD  GBA   BSH  BSD  BSA  \\\n",
       "id                  ...                                                     \n",
       "0           184138  ...  1.85  3.7   4.75  1.83  3.6  4.4  1.83  3.4  4.0   \n",
       "1           303059  ...  1.13  9.0  21.00  0.00  0.0  0.0  0.00  0.0  0.0   \n",
       "\n",
       "    year  \n",
       "id        \n",
       "0   2012  \n",
       "1   2015  \n",
       "\n",
       "[2 rows x 53 columns]"
      ]
     },
     "execution_count": 529,
     "metadata": {},
     "output_type": "execute_result"
    }
   ],
   "source": [
    "df_test_fe.head(2)"
   ]
  },
  {
   "cell_type": "code",
   "execution_count": 530,
   "metadata": {},
   "outputs": [
    {
     "data": {
      "image/png": "[encoded data removed]",
      "text/plain": [
       "<Figure size 720x432 with 2 Axes>"
      ]
     },
     "metadata": {
      "needs_background": "light"
     },
     "output_type": "display_data"
    }
   ],
   "source": [
    "#Corelation matrix\n",
    "data_corr=df_train_fe.corr()\n",
    "\n",
    "plt.figure(figsize = (10,6))\n",
    "sns.heatmap(data_corr)\n",
    "pass"
   ]
  },
  {
   "cell_type": "code",
   "execution_count": 531,
   "metadata": {},
   "outputs": [
    {
     "data": {
      "image/png": "[encoded data removed]",
      "text/plain": [
       "<Figure size 432x288 with 1 Axes>"
      ]
     },
     "metadata": {
      "needs_background": "light"
     },
     "output_type": "display_data"
    }
   ],
   "source": [
    "# target hist\n",
    "plt.hist(df_train_fe.win_team, bins=15)\n",
    "pass"
   ]
  },
  {
   "cell_type": "markdown",
   "metadata": {},
   "source": [
    "### Convert to date format(only year)"
   ]
  },
  {
   "cell_type": "code",
   "execution_count": 133,
   "metadata": {},
   "outputs": [
    {
     "data": {
      "text/plain": [
       "2016"
      ]
     },
     "execution_count": 133,
     "metadata": {},
     "output_type": "execute_result"
    }
   ],
   "source": [
    "df_player_fe['date'] = pd.to_datetime(df_player_fe['date'], format='%Y-%m-%d').apply(lambda x: x.year)\n",
    "df_player_fe['date'][0]"
   ]
  },
  {
   "cell_type": "code",
   "execution_count": 134,
   "metadata": {},
   "outputs": [
    {
     "name": "stdout",
     "output_type": "stream",
     "text": [
      "<class 'pandas.core.frame.DataFrame'>\n",
      "RangeIndex: 183978 entries, 0 to 183977\n",
      "Data columns (total 40 columns):\n",
      "player_api_id          183978 non-null int64\n",
      "date                   183978 non-null int64\n",
      "overall_rating         183142 non-null float64\n",
      "potential              183142 non-null float64\n",
      "preferred_foot         183142 non-null object\n",
      "attacking_work_rate    180748 non-null object\n",
      "defensive_work_rate    183142 non-null object\n",
      "crossing               183142 non-null float64\n",
      "finishing              183142 non-null float64\n",
      "heading_accuracy       183142 non-null float64\n",
      "short_passing          183142 non-null float64\n",
      "volleys                181265 non-null float64\n",
      "dribbling              183142 non-null float64\n",
      "curve                  181265 non-null float64\n",
      "free_kick_accuracy     183142 non-null float64\n",
      "long_passing           183142 non-null float64\n",
      "ball_control           183142 non-null float64\n",
      "acceleration           183142 non-null float64\n",
      "sprint_speed           183142 non-null float64\n",
      "agility                181265 non-null float64\n",
      "reactions              183142 non-null float64\n",
      "balance                181265 non-null float64\n",
      "shot_power             183142 non-null float64\n",
      "jumping                181265 non-null float64\n",
      "stamina                183142 non-null float64\n",
      "strength               183142 non-null float64\n",
      "long_shots             183142 non-null float64\n",
      "aggression             183142 non-null float64\n",
      "interceptions          183142 non-null float64\n",
      "positioning            183142 non-null float64\n",
      "vision                 181265 non-null float64\n",
      "penalties              183142 non-null float64\n",
      "marking                183142 non-null float64\n",
      "standing_tackle        183142 non-null float64\n",
      "sliding_tackle         181265 non-null float64\n",
      "gk_diving              183142 non-null float64\n",
      "gk_handling            183142 non-null float64\n",
      "gk_kicking             183142 non-null float64\n",
      "gk_positioning         183142 non-null float64\n",
      "gk_reflexes            183142 non-null float64\n",
      "dtypes: float64(35), int64(2), object(3)\n",
      "memory usage: 56.1+ MB\n"
     ]
    }
   ],
   "source": [
    "df_player_fe.info()"
   ]
  },
  {
   "cell_type": "markdown",
   "metadata": {},
   "source": [
    "### Work with a categorical futures "
   ]
  },
  {
   "cell_type": "code",
   "execution_count": 46,
   "metadata": {},
   "outputs": [
    {
     "data": {
      "text/plain": [
       "({'left', nan, 'right'},\n",
       " {'None', 'high', 'le', 'low', 'medium', nan, 'norm', 'stoc', 'y'})"
      ]
     },
     "execution_count": 46,
     "metadata": {},
     "output_type": "execute_result"
    }
   ],
   "source": [
    "set(df_player_fe.preferred_foot), set(df_player_fe.attacking_work_rate)"
   ]
  },
  {
   "cell_type": "code",
   "execution_count": 48,
   "metadata": {},
   "outputs": [
    {
     "name": "stdout",
     "output_type": "stream",
     "text": [
      "{nan, '5', '3', '7', '6', '0', 'low', 'ean', '1', '_0', '8', '2', 'o', 'es', '9', '4', 'high', 'ormal', 'medium', 'tocky'}\n"
     ]
    }
   ],
   "source": [
    "print(set(df_player_fe.defensive_work_rate))"
   ]
  },
  {
   "cell_type": "markdown",
   "metadata": {},
   "source": [
    "#### Working with empty cells"
   ]
  },
  {
   "cell_type": "code",
   "execution_count": 135,
   "metadata": {},
   "outputs": [],
   "source": [
    "df_player_fe = df_player_fe.fillna(df_player_fe.mean())"
   ]
  },
  {
   "cell_type": "markdown",
   "metadata": {},
   "source": [
    "Filling categorical empty cells "
   ]
  },
  {
   "cell_type": "code",
   "execution_count": 51,
   "metadata": {},
   "outputs": [],
   "source": [
    "df_player_fe = df_player_fe.fillna('0')"
   ]
  },
  {
   "cell_type": "markdown",
   "metadata": {},
   "source": [
    "Work with the categorical cells"
   ]
  },
  {
   "cell_type": "code",
   "execution_count": 52,
   "metadata": {},
   "outputs": [
    {
     "data": {
      "text/plain": [
       "OneHotEncoder(categorical_features=None, categories=None,\n",
       "       dtype=<class 'numpy.float64'>, handle_unknown='error',\n",
       "       n_values=None, sparse=False)"
      ]
     },
     "execution_count": 52,
     "metadata": {},
     "output_type": "execute_result"
    }
   ],
   "source": [
    "one=OneHotEncoder(sparse=False)\n",
    "\n",
    "one_hot_player = df_player_fe[['preferred_foot', 'attacking_work_rate', 'defensive_work_rate']]\n",
    "one.fit(one_hot_player)"
   ]
  },
  {
   "cell_type": "code",
   "execution_count": 53,
   "metadata": {},
   "outputs": [],
   "source": [
    "one_hot_player = one.transform(one_hot_player.as_matrix())"
   ]
  },
  {
   "cell_type": "markdown",
   "metadata": {},
   "source": [
    "#### Drop categorical columns and merge it back"
   ]
  },
  {
   "cell_type": "code",
   "execution_count": 137,
   "metadata": {},
   "outputs": [],
   "source": [
    "df_player_fe = df_player_fe.drop(['preferred_foot', 'attacking_work_rate', 'defensive_work_rate'], axis=1)"
   ]
  },
  {
   "cell_type": "raw",
   "metadata": {},
   "source": [
    "df_player_fe = df_player_fe.drop(['preferred_foot', 'attacking_work_rate', 'defensive_work_rate'], axis=1)\n",
    "df_player_fe = df_player_fe.merge(pd.DataFrame(data = one_hot_player, index =  df_player_fe.index),\n",
    "                   left_index=True, right_index=True, how = 'inner')"
   ]
  },
  {
   "cell_type": "code",
   "execution_count": 138,
   "metadata": {},
   "outputs": [
    {
     "data": {
      "text/plain": [
       "0"
      ]
     },
     "execution_count": 138,
     "metadata": {},
     "output_type": "execute_result"
    }
   ],
   "source": [
    "df_player_fe.isnull().sum().sum()"
   ]
  },
  {
   "cell_type": "markdown",
   "metadata": {},
   "source": [
    "### Get mean value of the player parameters and add to table(don't need anymore)"
   ]
  },
  {
   "cell_type": "raw",
   "metadata": {},
   "source": [
    "df_player_fe_mean = df_player_fe.groupby(['date', 'player_api_id']).mean()\n",
    "df_player_fe_mean.reset_index(inplace=True)\n",
    "df_player_fe_mean.head()"
   ]
  },
  {
   "cell_type": "markdown",
   "metadata": {},
   "source": [
    "## Create average parameters of the team"
   ]
  },
  {
   "cell_type": "markdown",
   "metadata": {},
   "source": [
    "Expamples part of code"
   ]
  },
  {
   "cell_type": "raw",
   "metadata": {},
   "source": [
    "df_train_fe.mean().append(pd.Series(data = dict( game_id =df_train_fe.index[22])))\n",
    "df_player_fe[(df_player_fe['player_api_id'] == player_in_team[0]) & \n",
    "             (df_player_fe['date'] == game_year )].mean().append(\n",
    "                                        pd.Series(data = dict( index =df_train_fe.index[3])))\n",
    "df_train_fe.loc[0][df_train_fe.columns[11]], df_train_fe.loc[[0]][df_train_fe.columns[[11]]]"
   ]
  },
  {
   "cell_type": "markdown",
   "metadata": {},
   "source": [
    "#### Get mean parameters of team and put it on DataFrame"
   ]
  },
  {
   "cell_type": "code",
   "execution_count": 139,
   "metadata": {},
   "outputs": [],
   "source": [
    "# sd = 0 for Home, 1 for away\n",
    "def get_ha_team_aver(df_player_fe, df_train_fe, sd):\n",
    "    team_aver = pd.DataFrame()\n",
    "    \n",
    "    \n",
    "\n",
    "    #go through case\n",
    "    for numb  in tqdm_notebook(range(0, df_train_fe.shape[0]), desc = 'Table row' ):\n",
    "        team_player = pd.DataFrame() #create empty dataFrame\n",
    "        game_year = df_train_fe.loc[numb]['year'] #get year\n",
    "        player_in_team = list() # erase player id list\n",
    "        \n",
    "        #get player id \n",
    "        for i in range((0 if sd == 0 else 11), (11 if sd == 0 else 22)):\n",
    "            player_in_team.append(int(df_train_fe.loc[numb][df_train_fe.columns[i]]))\n",
    "    \n",
    "        #collect player in team\n",
    "        for player in player_in_team:\n",
    "            team_player = team_player.append(df_player_fe[(df_player_fe['player_api_id'] == player)\n",
    "                                        & (df_player_fe['date'] == game_year )].mean().append(\n",
    "                                pd.Series(data = dict( side = sd))), ignore_index = True)\n",
    "        #add mean team value in DataFrame\n",
    "        team_aver = team_aver.append(team_player.drop(['player_api_id', 'date'], axis=1).mean().append(\n",
    "                                pd.Series(data = dict( game_id =df_train_fe.index[numb]))), ignore_index = True)\n",
    "    return team_aver"
   ]
  },
  {
   "cell_type": "code",
   "execution_count": 140,
   "metadata": {},
   "outputs": [
    {
     "data": {
      "application/vnd.jupyter.widget-view+json": {
       "model_id": "10fef094b7b540ba83e36f1dbbd2ef38",
       "version_major": 2,
       "version_minor": 0
      },
      "text/plain": [
       "HBox(children=(IntProgress(value=0, description='Table row', max=8786, style=ProgressStyle(description_width='…"
      ]
     },
     "metadata": {},
     "output_type": "display_data"
    },
    {
     "data": {
      "application/vnd.jupyter.widget-view+json": {
       "model_id": "a83d41bee37b4f25a15253a4c9a352fe",
       "version_major": 2,
       "version_minor": 0
      },
      "text/plain": [
       "HBox(children=(IntProgress(value=0, description='Table row', max=8786, style=ProgressStyle(description_width='…"
      ]
     },
     "metadata": {},
     "output_type": "display_data"
    },
    {
     "data": {
      "application/vnd.jupyter.widget-view+json": {
       "model_id": "8df6604ca09f42478408214aa7348a31",
       "version_major": 2,
       "version_minor": 0
      },
      "text/plain": [
       "HBox(children=(IntProgress(value=0, description='Table row', max=7190, style=ProgressStyle(description_width='…"
      ]
     },
     "metadata": {},
     "output_type": "display_data"
    },
    {
     "data": {
      "application/vnd.jupyter.widget-view+json": {
       "model_id": "547117c19f4046d6b2177a6357cf561f",
       "version_major": 2,
       "version_minor": 0
      },
      "text/plain": [
       "HBox(children=(IntProgress(value=0, description='Table row', max=7190, style=ProgressStyle(description_width='…"
      ]
     },
     "metadata": {},
     "output_type": "display_data"
    }
   ],
   "source": [
    "team_h_aver = get_ha_team_aver(df_player_fe, df_train_fe, 0) # 0 for Home, 1 for away\n",
    "team_a_aver = get_ha_team_aver(df_player_fe, df_train_fe, 1) # 0 for Home, 1 for away\n",
    "\n",
    "team_h_aver_test = get_ha_team_aver(df_player_fe, df_test_fe, 0) # 0 for Home, 1 for away\n",
    "team_a_aver_test = get_ha_team_aver(df_player_fe, df_test_fe, 1) # 0 for Home, 1 for away"
   ]
  },
  {
   "cell_type": "code",
   "execution_count": 141,
   "metadata": {},
   "outputs": [
    {
     "name": "stdout",
     "output_type": "stream",
     "text": [
      "0 0 (8786, 37) (8786, 37)\n",
      "0 0 (7190, 37) (7190, 37)\n"
     ]
    }
   ],
   "source": [
    "print (team_h_aver.isnull().sum().sum(), team_a_aver.isnull().sum().sum(), team_a_aver.shape, team_h_aver.shape)\n",
    "print (team_h_aver_test.isnull().sum().sum(), team_a_aver_test.isnull().sum().sum(),\n",
    "       team_a_aver_test.shape, team_h_aver_test.shape)"
   ]
  },
  {
   "cell_type": "code",
   "execution_count": 142,
   "metadata": {},
   "outputs": [
    {
     "name": "stdout",
     "output_type": "stream",
     "text": [
      "0 (8786, 54)\n",
      "0 (7190, 53)\n"
     ]
    }
   ],
   "source": [
    "print (df_train_fe.isnull().sum().sum(), df_train_fe.shape)\n",
    "print (df_test_fe.isnull().sum().sum(), df_test_fe.shape)"
   ]
  },
  {
   "cell_type": "markdown",
   "metadata": {},
   "source": [
    "### Backup the data( yes, i like it)"
   ]
  },
  {
   "cell_type": "code",
   "execution_count": 143,
   "metadata": {},
   "outputs": [],
   "source": [
    "df_train_fe_copy = df_train_fe[:]\n",
    "df_test_fe_copy = df_test_fe[:]\n",
    "\n",
    "team_h_aver_copy = team_h_aver[:]\n",
    "team_a_aver_copy = team_a_aver[:]\n",
    "\n",
    "team_h_aver_test_copy = team_h_aver_test[:]\n",
    "team_a_aver_test_copy = team_a_aver_test[:]"
   ]
  },
  {
   "cell_type": "markdown",
   "metadata": {},
   "source": [
    "If we need use backup"
   ]
  },
  {
   "cell_type": "raw",
   "metadata": {},
   "source": [
    "df_train_fe = df_train_fe_copy[:]\n",
    "df_test_fe = df_test_fe_copy[:]"
   ]
  },
  {
   "cell_type": "markdown",
   "metadata": {},
   "source": [
    "## We don't delete player id - rename DataFrame"
   ]
  },
  {
   "cell_type": "code",
   "execution_count": 144,
   "metadata": {},
   "outputs": [],
   "source": [
    "train_with_team = df_train_fe[:]\n",
    "train_with_team_test = df_test_fe[:]"
   ]
  },
  {
   "cell_type": "markdown",
   "metadata": {},
   "source": [
    "## Try replace player ID to overall_rating without bound to year"
   ]
  },
  {
   "cell_type": "markdown",
   "metadata": {},
   "source": [
    "Create mean of player table"
   ]
  },
  {
   "cell_type": "code",
   "execution_count": 145,
   "metadata": {},
   "outputs": [],
   "source": [
    "df_player_fe_mean_c = tr = df_player_fe.groupby('player_api_id').mean()\n",
    "df_player_fe_mean_c.reset_index(inplace=True)"
   ]
  },
  {
   "cell_type": "code",
   "execution_count": 146,
   "metadata": {},
   "outputs": [
    {
     "data": {
      "text/html": [
       "<div>\n",
       "<style scoped>\n",
       "    .dataframe tbody tr th:only-of-type {\n",
       "        vertical-align: middle;\n",
       "    }\n",
       "\n",
       "    .dataframe tbody tr th {\n",
       "        vertical-align: top;\n",
       "    }\n",
       "\n",
       "    .dataframe thead th {\n",
       "        text-align: right;\n",
       "    }\n",
       "</style>\n",
       "<table border=\"1\" class=\"dataframe\">\n",
       "  <thead>\n",
       "    <tr style=\"text-align: right;\">\n",
       "      <th></th>\n",
       "      <th>player_api_id</th>\n",
       "      <th>date</th>\n",
       "      <th>overall_rating</th>\n",
       "      <th>potential</th>\n",
       "      <th>crossing</th>\n",
       "      <th>finishing</th>\n",
       "      <th>heading_accuracy</th>\n",
       "      <th>short_passing</th>\n",
       "      <th>volleys</th>\n",
       "      <th>dribbling</th>\n",
       "      <th>...</th>\n",
       "      <th>vision</th>\n",
       "      <th>penalties</th>\n",
       "      <th>marking</th>\n",
       "      <th>standing_tackle</th>\n",
       "      <th>sliding_tackle</th>\n",
       "      <th>gk_diving</th>\n",
       "      <th>gk_handling</th>\n",
       "      <th>gk_kicking</th>\n",
       "      <th>gk_positioning</th>\n",
       "      <th>gk_reflexes</th>\n",
       "    </tr>\n",
       "  </thead>\n",
       "  <tbody>\n",
       "    <tr>\n",
       "      <th>0</th>\n",
       "      <td>2625</td>\n",
       "      <td>2011.428571</td>\n",
       "      <td>60.142857</td>\n",
       "      <td>61.142857</td>\n",
       "      <td>50.142857</td>\n",
       "      <td>47.285714</td>\n",
       "      <td>46.285714</td>\n",
       "      <td>56.500000</td>\n",
       "      <td>38.000000</td>\n",
       "      <td>54.142857</td>\n",
       "      <td>...</td>\n",
       "      <td>55.285714</td>\n",
       "      <td>61.928571</td>\n",
       "      <td>62.928571</td>\n",
       "      <td>63.857143</td>\n",
       "      <td>56.571429</td>\n",
       "      <td>12.428571</td>\n",
       "      <td>12.857143</td>\n",
       "      <td>19.071429</td>\n",
       "      <td>10.357143</td>\n",
       "      <td>10.428571</td>\n",
       "    </tr>\n",
       "    <tr>\n",
       "      <th>1</th>\n",
       "      <td>2752</td>\n",
       "      <td>2012.333333</td>\n",
       "      <td>69.380952</td>\n",
       "      <td>70.380952</td>\n",
       "      <td>36.428571</td>\n",
       "      <td>37.428571</td>\n",
       "      <td>75.333333</td>\n",
       "      <td>54.809524</td>\n",
       "      <td>20.428571</td>\n",
       "      <td>44.857143</td>\n",
       "      <td>...</td>\n",
       "      <td>52.428571</td>\n",
       "      <td>35.428571</td>\n",
       "      <td>71.095238</td>\n",
       "      <td>70.666667</td>\n",
       "      <td>65.571429</td>\n",
       "      <td>11.095238</td>\n",
       "      <td>6.095238</td>\n",
       "      <td>7.095238</td>\n",
       "      <td>9.095238</td>\n",
       "      <td>15.095238</td>\n",
       "    </tr>\n",
       "  </tbody>\n",
       "</table>\n",
       "<p>2 rows × 37 columns</p>\n",
       "</div>"
      ],
      "text/plain": [
       "   player_api_id         date  overall_rating  potential   crossing  \\\n",
       "0           2625  2011.428571       60.142857  61.142857  50.142857   \n",
       "1           2752  2012.333333       69.380952  70.380952  36.428571   \n",
       "\n",
       "   finishing  heading_accuracy  short_passing    volleys  dribbling  ...  \\\n",
       "0  47.285714         46.285714      56.500000  38.000000  54.142857  ...   \n",
       "1  37.428571         75.333333      54.809524  20.428571  44.857143  ...   \n",
       "\n",
       "      vision  penalties    marking  standing_tackle  sliding_tackle  \\\n",
       "0  55.285714  61.928571  62.928571        63.857143       56.571429   \n",
       "1  52.428571  35.428571  71.095238        70.666667       65.571429   \n",
       "\n",
       "   gk_diving  gk_handling  gk_kicking  gk_positioning  gk_reflexes  \n",
       "0  12.428571    12.857143   19.071429       10.357143    10.428571  \n",
       "1  11.095238     6.095238    7.095238        9.095238    15.095238  \n",
       "\n",
       "[2 rows x 37 columns]"
      ]
     },
     "execution_count": 146,
     "metadata": {},
     "output_type": "execute_result"
    }
   ],
   "source": [
    "df_player_fe_mean_c.head(2)"
   ]
  },
  {
   "cell_type": "markdown",
   "metadata": {},
   "source": [
    "#### Replace id and overall_rating WITHOUT bound with the year function"
   ]
  },
  {
   "cell_type": "code",
   "execution_count": 147,
   "metadata": {},
   "outputs": [],
   "source": [
    "def get_player_name_clear(df_train_fe):    \n",
    "    #go trough case\n",
    "    player_in_team = list()\n",
    "    for numb  in tqdm_notebook(range(0, df_train_fe.shape[0]), desc = 'Get player'):\n",
    "        #get player id \n",
    "        player_in_team.append(int(df_train_fe.loc[numb]['player_api_id']))\n",
    "            \n",
    "    return player_in_team   \n",
    "\n",
    "\n",
    "            \n",
    "def replace_id_to_over_clear(player_in_team, train_with_team, df_player_fe_mean_c):\n",
    "         \n",
    "    for player in tqdm_notebook(player_in_team, desc = 'Replace id to over'):\n",
    "                \n",
    "        train_with_team = train_with_team.replace(player,\n",
    "                    float(df_player_fe_mean_c[df_player_fe_mean_c.player_api_id == player].overall_rating))\n",
    "            \n",
    "    return train_with_team"
   ]
  },
  {
   "cell_type": "code",
   "execution_count": 148,
   "metadata": {},
   "outputs": [
    {
     "data": {
      "application/vnd.jupyter.widget-view+json": {
       "model_id": "4a89d24f61a245e4a91fbec406ca2309",
       "version_major": 2,
       "version_minor": 0
      },
      "text/plain": [
       "HBox(children=(IntProgress(value=0, description='Get player', max=11060, style=ProgressStyle(description_width…"
      ]
     },
     "metadata": {},
     "output_type": "display_data"
    }
   ],
   "source": [
    "player_id_clear = get_player_name_clear(df_player_fe_mean_c)"
   ]
  },
  {
   "cell_type": "markdown",
   "metadata": {},
   "source": [
    "Check to repeated values"
   ]
  },
  {
   "cell_type": "code",
   "execution_count": 149,
   "metadata": {},
   "outputs": [
    {
     "data": {
      "text/plain": [
       "(11060, 11060)"
      ]
     },
     "execution_count": 149,
     "metadata": {},
     "output_type": "execute_result"
    }
   ],
   "source": [
    "len(player_id_clear), len(set(player_id_clear))"
   ]
  },
  {
   "cell_type": "code",
   "execution_count": 150,
   "metadata": {},
   "outputs": [
    {
     "data": {
      "application/vnd.jupyter.widget-view+json": {
       "model_id": "bd1820e711874b5aa0fa72bfd6566e58",
       "version_major": 2,
       "version_minor": 0
      },
      "text/plain": [
       "HBox(children=(IntProgress(value=0, description='Replace id to over', max=11060, style=ProgressStyle(descripti…"
      ]
     },
     "metadata": {},
     "output_type": "display_data"
    }
   ],
   "source": [
    "train_wt_rep_cl = replace_id_to_over_clear(player_id_clear, train_with_team, df_player_fe_mean_c)"
   ]
  },
  {
   "cell_type": "code",
   "execution_count": 151,
   "metadata": {},
   "outputs": [
    {
     "data": {
      "application/vnd.jupyter.widget-view+json": {
       "model_id": "2fd571c5aebc405ea24b33f33b856e64",
       "version_major": 2,
       "version_minor": 0
      },
      "text/plain": [
       "HBox(children=(IntProgress(value=0, description='Replace id to over', max=11060, style=ProgressStyle(descripti…"
      ]
     },
     "metadata": {},
     "output_type": "display_data"
    }
   ],
   "source": [
    "train_wt_rep_cl_test = replace_id_to_over_clear(player_id_clear, train_with_team_test, df_player_fe_mean_c)"
   ]
  },
  {
   "cell_type": "code",
   "execution_count": 152,
   "metadata": {},
   "outputs": [
    {
     "data": {
      "text/plain": [
       "((8786, 54), (7190, 53))"
      ]
     },
     "execution_count": 152,
     "metadata": {},
     "output_type": "execute_result"
    }
   ],
   "source": [
    "train_wt_rep_cl.shape, train_wt_rep_cl_test.shape"
   ]
  },
  {
   "cell_type": "markdown",
   "metadata": {},
   "source": [
    "### Renaming if all was good"
   ]
  },
  {
   "cell_type": "code",
   "execution_count": 153,
   "metadata": {},
   "outputs": [],
   "source": [
    "train_with_team = train_wt_rep_cl[:]\n",
    "train_with_team_test = train_wt_rep_cl_test[:]"
   ]
  },
  {
   "cell_type": "markdown",
   "metadata": {},
   "source": [
    "## Merge cases "
   ]
  },
  {
   "cell_type": "code",
   "execution_count": 154,
   "metadata": {},
   "outputs": [],
   "source": [
    "train_with_team = train_with_team.merge(team_h_aver, left_on='id', right_on='game_id', how = 'inner')\n",
    "\n",
    "train_with_team_test = train_with_team_test.merge(team_h_aver_test, left_on='id', right_on='game_id', how = 'inner')"
   ]
  },
  {
   "cell_type": "code",
   "execution_count": 155,
   "metadata": {},
   "outputs": [
    {
     "name": "stdout",
     "output_type": "stream",
     "text": [
      "0 (8786, 91)\n",
      "0 (7190, 90)\n"
     ]
    }
   ],
   "source": [
    "print(train_with_team.isnull().sum().sum(), train_with_team.shape)\n",
    "print(train_with_team_test.isnull().sum().sum(), train_with_team_test.shape)"
   ]
  },
  {
   "cell_type": "code",
   "execution_count": 156,
   "metadata": {},
   "outputs": [],
   "source": [
    "train_with_team = train_with_team.merge(team_a_aver, left_on='game_id', right_on='game_id', \n",
    "                                        how = 'inner', suffixes=('_h', '_h_'))\n",
    "\n",
    "train_with_team_test = train_with_team_test.merge(team_a_aver_test, left_on='game_id', right_on='game_id', \n",
    "                                        how = 'inner', suffixes=('_h', '_h_'))"
   ]
  },
  {
   "cell_type": "code",
   "execution_count": 157,
   "metadata": {},
   "outputs": [
    {
     "name": "stdout",
     "output_type": "stream",
     "text": [
      "0 (8786, 127)\n",
      "0 (7190, 126)\n"
     ]
    }
   ],
   "source": [
    "print(train_with_team.isnull().sum().sum(), train_with_team.shape)\n",
    "print(train_with_team_test.isnull().sum().sum(), train_with_team_test.shape)"
   ]
  },
  {
   "cell_type": "raw",
   "metadata": {},
   "source": [
    "train_with_team.drop('year', axis=1, inplace=True)\n",
    "train_with_team_test.drop('year', axis=1, inplace=True)"
   ]
  },
  {
   "cell_type": "raw",
   "metadata": {},
   "source": [
    "train_with_team.shape, train_with_team_test.shape"
   ]
  },
  {
   "cell_type": "markdown",
   "metadata": {},
   "source": [
    "#### BackUp"
   ]
  },
  {
   "cell_type": "code",
   "execution_count": 158,
   "metadata": {},
   "outputs": [],
   "source": [
    "train_with_team_c = train_with_team[:]\n",
    "train_with_team_test_c = train_with_team_test[:]"
   ]
  },
  {
   "cell_type": "code",
   "execution_count": 159,
   "metadata": {},
   "outputs": [
    {
     "data": {
      "text/plain": [
       "((8786, 127), (7190, 126))"
      ]
     },
     "execution_count": 159,
     "metadata": {},
     "output_type": "execute_result"
    }
   ],
   "source": [
    "train_with_team.shape, train_with_team_test.shape"
   ]
  },
  {
   "cell_type": "markdown",
   "metadata": {},
   "source": [
    "### Try replace player ID to overall_rating on the year(too long, need rewrote)"
   ]
  },
  {
   "cell_type": "raw",
   "metadata": {},
   "source": [
    "#Collect player ID to list\n",
    "def get_player_name(df_train_fe):    \n",
    "    #go trough case\n",
    "    player_in_team = list()\n",
    "    for numb  in tqdm_notebook(range(0, 1000), desc = 'Get player'):# df_train_fe.shape[0]), desc = 'Get player'):\n",
    "        #get player id \n",
    "        for i in range(0, 22):\n",
    "            player_in_team.append([int(df_train_fe.loc[numb][df_train_fe.columns[i]]),\n",
    "                                   df_train_fe.loc[numb]['year'], df_train_fe.columns[i]])\n",
    "            \n",
    "    return player_in_team        \n",
    "\n",
    "def replace_id_to_over(player_in_team, train_with_team):\n",
    "         \n",
    "    for player in tqdm_notebook(player_in_team, desc = 'Replace id to over'):\n",
    "        tm = list()\n",
    "\n",
    "        tm = list(df_player_fe[(df_player_fe['player_api_id'] == player[0])\n",
    "                                     & (df_player_fe['date'] == player[1] )].mean().append(\n",
    "                                        pd.Series(data = dict( player_col = player[2])).rename('pl'))[\n",
    "                                            ['overall_rating','player_col','date','player_api_id']].values)\n",
    "\n",
    "        train_with_team[(train_with_team['year'] == tm[2]) &\n",
    "                        (train_with_team[tm[1]] == \n",
    "                         tm[3])] = train_with_team[(train_with_team['year'] == tm[2]) &\n",
    "                        (train_with_team[tm[1]] == tm[3])].replace(tm[3], tm[0])\n",
    "            \n",
    "    return train_with_team\n"
   ]
  },
  {
   "cell_type": "raw",
   "metadata": {},
   "source": [
    "player_id = get_player_name(train_with_team)\n",
    "len(player_id)"
   ]
  },
  {
   "cell_type": "raw",
   "metadata": {},
   "source": [
    "train_wt_id_rep = replace_id_to_over(player_id, train_with_team)"
   ]
  },
  {
   "cell_type": "raw",
   "metadata": {},
   "source": [
    "test_wt_id_rep = replace_id_to_over(player_id, train_with_team_test)"
   ]
  },
  {
   "cell_type": "raw",
   "metadata": {},
   "source": [
    "train_with_team.shape, train_wt_id_rep.shape, test_wt_id_rep.shape, y_train_with_team.shape"
   ]
  },
  {
   "cell_type": "raw",
   "metadata": {},
   "source": [
    "[train_wt_rep_cl_test.isnull().sum().sum(), train_wt_rep_cl.isnull().sum().sum(), \n",
    "test_wt_id_rep.isnull().sum().sum()]"
   ]
  },
  {
   "cell_type": "raw",
   "metadata": {},
   "source": [
    "### Renaming"
   ]
  },
  {
   "cell_type": "raw",
   "metadata": {},
   "source": [
    "train_with_team = train_wt_id_rep[:]\n",
    "train_with_team_test = test_wt_id_rep[:]"
   ]
  },
  {
   "cell_type": "markdown",
   "metadata": {},
   "source": [
    "### Split data and target"
   ]
  },
  {
   "cell_type": "code",
   "execution_count": 533,
   "metadata": {},
   "outputs": [],
   "source": [
    "train_with_team_copy = train_with_team[:]\n",
    "train_with_team__test_copy = train_with_team_test[:]\n",
    "\n",
    "y_train_with_team = train_with_team.win_team\n",
    "y_train_with_team.head()\n",
    "train_with_team.drop('win_team', axis=1, inplace=True)"
   ]
  },
  {
   "cell_type": "markdown",
   "metadata": {},
   "source": [
    "#### Skaled it"
   ]
  },
  {
   "cell_type": "code",
   "execution_count": 534,
   "metadata": {},
   "outputs": [],
   "source": [
    "ss = StandardScaler()\n",
    "\n",
    "train_with_team = ss.fit_transform(train_with_team)\n",
    "train_with_team_test = ss.fit_transform(train_with_team_test)"
   ]
  },
  {
   "cell_type": "code",
   "execution_count": 535,
   "metadata": {},
   "outputs": [
    {
     "data": {
      "text/plain": [
       "([-6.641072533716706, 17.318820034449065],\n",
       " [-5.719084838867294, 12.79712300317556])"
      ]
     },
     "execution_count": 535,
     "metadata": {},
     "output_type": "execute_result"
    }
   ],
   "source": [
    "[train_with_team.min(), train_with_team.max()], [train_with_team_test.min(), train_with_team_test.max()]"
   ]
  },
  {
   "cell_type": "markdown",
   "metadata": {},
   "source": [
    "## Learning on the Test"
   ]
  },
  {
   "cell_type": "markdown",
   "metadata": {},
   "source": [
    "### Split cases"
   ]
  },
  {
   "cell_type": "code",
   "execution_count": 567,
   "metadata": {},
   "outputs": [
    {
     "data": {
      "text/plain": [
       "((5622, 126), (5622,), (1758, 126), (1758,), (1406, 126), (1406,))"
      ]
     },
     "execution_count": 567,
     "metadata": {},
     "output_type": "execute_result"
    }
   ],
   "source": [
    "X_train_wt, X_test_wt, Y_train_wt, Y_test_wt = train_test_split(train_with_team, y_train_with_team,\n",
    "                                                   test_size = 0.2,\n",
    "                                                   random_state=1)\n",
    "X_train_wt, X_valid_wt, Y_train_wt, Y_valid_wt = train_test_split(X_train_wt, Y_train_wt, \n",
    "                                                                  test_size = 0.2, random_state = 1)\n",
    "X_train_wt.shape, Y_train_wt.shape, X_test_wt.shape, Y_test_wt.shape, X_valid_wt.shape, Y_valid_wt.shape"
   ]
  },
  {
   "cell_type": "markdown",
   "metadata": {},
   "source": [
    "### Algorithm function"
   ]
  },
  {
   "cell_type": "code",
   "execution_count": 98,
   "metadata": {},
   "outputs": [],
   "source": [
    "def xgb_model_fit(X_train, Y_train):\n",
    "    xgb_model = xgb.XGBClassifier(objective='binary:logistic', random_state=1)\n",
    "    xgb_model.fit(X_train, Y_train)\n",
    "    return xgb_model\n",
    "\n",
    "def xgb_model_pred(xgb_model, X_train):\n",
    "    xgb_model_pred_train = xgb_model.predict(X_train)\n",
    "    return xgb_model_pred_train\n",
    "\n",
    "def xgb_model_pred_proba(xgb_model, X_train):\n",
    "    xgb_model_pred_train = xgb_model.predict_proba(X_train)[:,1]\n",
    "    return xgb_model_pred_train\n",
    "    \n",
    "def roc_score_get(Y_train, xgb_model_pred_train):\n",
    "    print('roc auc score: ', roc_auc_score(Y_train, xgb_model_pred_train))"
   ]
  },
  {
   "cell_type": "code",
   "execution_count": 99,
   "metadata": {},
   "outputs": [],
   "source": [
    "def xgb_hyp_search_fit(xgb_model, X_train, Y_train, params, cv=3, n_iter=200, n_jobs=-1):   \n",
    "\n",
    "    xgb_search = RandomizedSearchCV(xgb_model, param_distributions=params, random_state = 1,\n",
    "                                   n_iter = n_iter, cv=cv, verbose = 1, \n",
    "                                    n_jobs = n_jobs, return_train_score=True)\n",
    "    \n",
    "    xgb_search.fit(X_train, Y_train)\n",
    "    return(xgb_search)"
   ]
  },
  {
   "cell_type": "code",
   "execution_count": 561,
   "metadata": {},
   "outputs": [],
   "source": [
    "def xgb_er_stop_fit(X_train, Y_train, eval_set, ear_stop_round=10, ev_metr = 'auc'):\n",
    "    xgb_estop =xgb.XGBClassifier(objective='binary:logistic', random_state=1, eval_metric=ev_metr)    \n",
    "    xgb_estop.fit(X_train, Y_train, early_stopping_rounds= ear_stop_round, eval_set=eval_set)\n",
    "    return(xgb_estop)"
   ]
  },
  {
   "cell_type": "code",
   "execution_count": 101,
   "metadata": {},
   "outputs": [],
   "source": [
    "def tree_class(X_train, Y_train):\n",
    "    tree = DecisionTreeClassifier(max_depth = 2, min_samples_leaf = 1)\n",
    "    tree.fit(X_train,Y_train)\n",
    "    return tree\n",
    "\n",
    "def grid_searchCV(tree, X_train, Y_train, param_grid, cv=10, n_jobs=-1):    \n",
    "    grid_search = GridSearchCV(tree, param_grid, cv=cv,n_jobs = n_jobs)\n",
    "    grid_search.fit(X_train, Y_train)\n",
    "    return grid_search"
   ]
  },
  {
   "cell_type": "markdown",
   "metadata": {},
   "source": [
    "## Let's Train"
   ]
  },
  {
   "cell_type": "markdown",
   "metadata": {},
   "source": [
    "### Standart XGBOOST"
   ]
  },
  {
   "cell_type": "code",
   "execution_count": 537,
   "metadata": {},
   "outputs": [],
   "source": [
    "xgb_m_wt = xgb_model_fit(X_train_wt, Y_train_wt)"
   ]
  },
  {
   "cell_type": "code",
   "execution_count": 538,
   "metadata": {},
   "outputs": [],
   "source": [
    "xgb_m_wt_pred_tr = xgb_model_pred(xgb_m_wt, X_train_wt)\n",
    "xgb_m_wt_pred_te = xgb_model_pred(xgb_m_wt, X_test_wt)\n",
    "xgb_m_wt_pred_val = xgb_model_pred(xgb_m_wt, X_valid_wt)\n",
    "xgb_m_wt_pred_fin = xgb_model_pred(xgb_m_wt, train_with_team_test)\n",
    "\n",
    "xgb_m_wt_proba_tr = xgb_model_pred_proba(xgb_m_wt, X_train_wt)\n",
    "xgb_m_wt_proba_te = xgb_model_pred_proba(xgb_m_wt, X_test_wt)\n",
    "xgb_m_wt_proba_val = xgb_model_pred_proba(xgb_m_wt, X_valid_wt)\n",
    "xgb_m_wt_proba_fin = xgb_model_pred_proba(xgb_m_wt, train_with_team_test)"
   ]
  },
  {
   "cell_type": "code",
   "execution_count": 539,
   "metadata": {},
   "outputs": [
    {
     "name": "stdout",
     "output_type": "stream",
     "text": [
      "Predict\n",
      "roc auc score:  0.7397249347142492\n",
      "roc auc score:  0.6797874938935027\n",
      "roc auc score:  0.6535408745247149\n",
      "Predict_proba\n",
      "roc auc score:  0.8515119104324257\n",
      "roc auc score:  0.7659230309938665\n",
      "roc auc score:  0.7403689941237469\n"
     ]
    }
   ],
   "source": [
    "print('Predict')\n",
    "roc_score_get(Y_train_wt, xgb_m_wt_pred_tr)\n",
    "roc_score_get(Y_test_wt, xgb_m_wt_pred_te)\n",
    "roc_score_get(Y_valid_wt, xgb_m_wt_pred_val)\n",
    "print('Predict_proba')\n",
    "roc_score_get(Y_train_wt, xgb_m_wt_proba_tr)\n",
    "roc_score_get(Y_test_wt, xgb_m_wt_proba_te)\n",
    "roc_score_get(Y_valid_wt, xgb_m_wt_proba_val)"
   ]
  },
  {
   "cell_type": "markdown",
   "metadata": {},
   "source": [
    "### Randomized search xgb"
   ]
  },
  {
   "cell_type": "code",
   "execution_count": 540,
   "metadata": {},
   "outputs": [
    {
     "data": {
      "text/plain": [
       "XGBClassifier(base_score=0.5, booster='gbtree', colsample_bylevel=1,\n",
       "       colsample_bytree=1, gamma=0, learning_rate=0.1, max_delta_step=0,\n",
       "       max_depth=3, min_child_weight=1, missing=None, n_estimators=100,\n",
       "       n_jobs=1, nthread=None, objective='binary:logistic', random_state=0,\n",
       "       reg_alpha=0, reg_lambda=1, scale_pos_weight=1, seed=None,\n",
       "       silent=True, subsample=1)"
      ]
     },
     "execution_count": 540,
     "metadata": {},
     "output_type": "execute_result"
    }
   ],
   "source": [
    "xgb.XGBClassifier()"
   ]
  },
  {
   "cell_type": "code",
   "execution_count": 108,
   "metadata": {},
   "outputs": [
    {
     "name": "stdout",
     "output_type": "stream",
     "text": [
      "Fitting 3 folds for each of 3000 candidates, totalling 9000 fits\n"
     ]
    },
    {
     "name": "stderr",
     "output_type": "stream",
     "text": [
      "[Parallel(n_jobs=-1)]: Using backend LokyBackend with 6 concurrent workers.\n",
      "[Parallel(n_jobs=-1)]: Done  38 tasks      | elapsed:   28.2s\n",
      "[Parallel(n_jobs=-1)]: Done 188 tasks      | elapsed:  1.8min\n",
      "[Parallel(n_jobs=-1)]: Done 438 tasks      | elapsed:  4.1min\n",
      "[Parallel(n_jobs=-1)]: Done 788 tasks      | elapsed:  7.1min\n",
      "[Parallel(n_jobs=-1)]: Done 1238 tasks      | elapsed: 11.1min\n",
      "[Parallel(n_jobs=-1)]: Done 1788 tasks      | elapsed: 16.1min\n",
      "[Parallel(n_jobs=-1)]: Done 2438 tasks      | elapsed: 21.8min\n",
      "[Parallel(n_jobs=-1)]: Done 3188 tasks      | elapsed: 28.3min\n",
      "[Parallel(n_jobs=-1)]: Done 4038 tasks      | elapsed: 35.8min\n",
      "[Parallel(n_jobs=-1)]: Done 4988 tasks      | elapsed: 44.4min\n",
      "[Parallel(n_jobs=-1)]: Done 6038 tasks      | elapsed: 53.8min\n",
      "[Parallel(n_jobs=-1)]: Done 7188 tasks      | elapsed: 64.1min\n",
      "[Parallel(n_jobs=-1)]: Done 8438 tasks      | elapsed: 75.6min\n",
      "[Parallel(n_jobs=-1)]: Done 9000 out of 9000 | elapsed: 80.7min finished\n"
     ]
    }
   ],
   "source": [
    "params_cv = {\n",
    "          'colsample_bytree': np.arange(0.7, 1.0, 0.1),\n",
    "          'gamma': np.arange(0.0001, 0.21, 0.1),\n",
    "          'learning_rate': np.arange(0.06, 0.2, 0.01),\n",
    "          'max_depth': np.arange(1,5, 1),\n",
    "          'n_estimators': np.arange(90, 110, 1),\n",
    "          'subsample':  np.arange(0.8, 1.0, 0.1)\n",
    "             }\n",
    "\n",
    "xgb_cv_wt = xgb_hyp_search_fit(xgb.XGBClassifier(objective='binary:logistic', random_state=1),\n",
    "                               X_train_wt, Y_train_wt, params_cv, n_iter = 3000)"
   ]
  },
  {
   "cell_type": "code",
   "execution_count": 109,
   "metadata": {},
   "outputs": [],
   "source": [
    "xgb_cv_wt_pred_tr = xgb_model_pred(xgb_cv_wt, X_train_wt)\n",
    "xgb_cv_wt_pred_te = xgb_model_pred(xgb_cv_wt, X_test_wt)\n",
    "xgb_cv_wt_pred_val = xgb_model_pred(xgb_cv_wt, X_valid_wt)\n",
    "xgb_cv_wt_pred_fin = xgb_model_pred(xgb_cv_wt, train_with_team_test)\n",
    "\n",
    "xgb_cv_wt_proba_tr = xgb_model_pred_proba(xgb_cv_wt, X_train_wt)\n",
    "xgb_cv_wt_proba_te = xgb_model_pred_proba(xgb_cv_wt, X_test_wt)\n",
    "xgb_cv_wt_proba_val = xgb_model_pred_proba(xgb_cv_wt, X_valid_wt)\n",
    "xgb_cv_wt_proba_fin = xgb_model_pred_proba(xgb_cv_wt, train_with_team_test)"
   ]
  },
  {
   "cell_type": "code",
   "execution_count": 110,
   "metadata": {},
   "outputs": [
    {
     "name": "stdout",
     "output_type": "stream",
     "text": [
      "Predict\n",
      "roc auc score:  0.6813158428910352\n",
      "roc auc score:  0.684247325026414\n",
      "roc auc score:  0.6609858127142518\n",
      "Predict_proba\n",
      "roc auc score:  0.7822346227415129\n",
      "roc auc score:  0.766132915229548\n",
      "roc auc score:  0.7531225604996097\n"
     ]
    }
   ],
   "source": [
    "print('Predict')\n",
    "roc_score_get(Y_train_wt, xgb_cv_wt_pred_tr)\n",
    "roc_score_get(Y_test_wt, xgb_cv_wt_pred_te)\n",
    "roc_score_get(Y_valid_wt, xgb_cv_wt_pred_val)\n",
    "print('Predict_proba')\n",
    "roc_score_get(Y_train_wt, xgb_cv_wt_proba_tr)\n",
    "roc_score_get(Y_test_wt, xgb_cv_wt_proba_te)\n",
    "roc_score_get(Y_valid_wt, xgb_cv_wt_proba_val)"
   ]
  },
  {
   "cell_type": "code",
   "execution_count": 111,
   "metadata": {},
   "outputs": [
    {
     "data": {
      "text/plain": [
       "{'subsample': 0.8,\n",
       " 'n_estimators': 91,\n",
       " 'max_depth': 1,\n",
       " 'learning_rate': 0.15999999999999995,\n",
       " 'gamma': 0.2001,\n",
       " 'colsample_bytree': 0.7999999999999999}"
      ]
     },
     "execution_count": 111,
     "metadata": {},
     "output_type": "execute_result"
    }
   ],
   "source": [
    "xgb_cv_wt.best_params_"
   ]
  },
  {
   "cell_type": "markdown",
   "metadata": {},
   "source": [
    "### XGBooster GridSearchCV ( too long)"
   ]
  },
  {
   "cell_type": "raw",
   "metadata": {},
   "source": [
    "params_cv = {\n",
    "          'colsample_bytree': np.arange(0.7, 1.3, 0.1),\n",
    "          'gamma': np.arange(0.0001, 0.51, 0.1),\n",
    "          'learning_rate': np.arange(0.06, 0.2, 0.01),\n",
    "          'max_depth': np.arange(1,10, 1),\n",
    "          'n_estimators': np.arange(90, 120, 1),\n",
    "          'subsample':  np.arange(0.6, 1.0, 0.1)\n",
    "             }\n",
    "\n",
    "xgb_tree = xgb.XGBClassifier(objective='binary:logistic', random_state=1)\n",
    "xgb_tree = grid_searchCV(xgb_tree, X_train_wt, Y_train_wt, params_cv, cv=5)"
   ]
  },
  {
   "cell_type": "raw",
   "metadata": {},
   "source": [
    "xgb_cv_pred_tr = xgb_model_pred(xgb_tree, X_train_wt)\n",
    "xgb_cv_pred_te = xgb_model_pred(xgb_tree, X_test_wt)\n",
    "xgb_cv_pred_val = xgb_model_pred(xgb_tree, X_valid_wt)\n",
    "xgb_cv_pred_fin = xgb_model_pred(xgb_tree, train_with_team_test)\n",
    "\n",
    "xgb_cv_proba_tr = xgb_model_pred_proba(xgb_tree, X_train_wt)\n",
    "xgb_cv_proba_te = xgb_model_pred_proba(xgb_tree, X_test_wt)\n",
    "xgb_cv_proba_val = xgb_model_pred_proba(xgb_tree, X_valid_wt)\n",
    "xgb_cv_proba_fin = xgb_model_pred_proba(xgb_tree, train_with_team_test)"
   ]
  },
  {
   "cell_type": "markdown",
   "metadata": {},
   "source": [
    "### Booster Early stop"
   ]
  },
  {
   "cell_type": "code",
   "execution_count": 568,
   "metadata": {},
   "outputs": [
    {
     "name": "stdout",
     "output_type": "stream",
     "text": [
      "[0]\tvalidation_0-auc:0.741975\n",
      "Will train until validation_0-auc hasn't improved in 110 rounds.\n",
      "[1]\tvalidation_0-auc:0.747689\n",
      "[2]\tvalidation_0-auc:0.749847\n",
      "[3]\tvalidation_0-auc:0.750579\n",
      "[4]\tvalidation_0-auc:0.750657\n",
      "[5]\tvalidation_0-auc:0.753637\n",
      "[6]\tvalidation_0-auc:0.756227\n",
      "[7]\tvalidation_0-auc:0.757708\n",
      "[8]\tvalidation_0-auc:0.75743\n",
      "[9]\tvalidation_0-auc:0.758317\n",
      "[10]\tvalidation_0-auc:0.757859\n",
      "[11]\tvalidation_0-auc:0.758999\n",
      "[12]\tvalidation_0-auc:0.759957\n",
      "[13]\tvalidation_0-auc:0.760801\n",
      "[14]\tvalidation_0-auc:0.760355\n",
      "[15]\tvalidation_0-auc:0.760838\n",
      "[16]\tvalidation_0-auc:0.761666\n",
      "[17]\tvalidation_0-auc:0.762664\n",
      "[18]\tvalidation_0-auc:0.763256\n",
      "[19]\tvalidation_0-auc:0.763441\n",
      "[20]\tvalidation_0-auc:0.763376\n",
      "[21]\tvalidation_0-auc:0.764954\n",
      "[22]\tvalidation_0-auc:0.764638\n",
      "[23]\tvalidation_0-auc:0.763992\n",
      "[24]\tvalidation_0-auc:0.763856\n",
      "[25]\tvalidation_0-auc:0.764324\n",
      "[26]\tvalidation_0-auc:0.764289\n",
      "[27]\tvalidation_0-auc:0.765253\n",
      "[28]\tvalidation_0-auc:0.765658\n",
      "[29]\tvalidation_0-auc:0.765878\n",
      "[30]\tvalidation_0-auc:0.765907\n",
      "[31]\tvalidation_0-auc:0.766026\n",
      "[32]\tvalidation_0-auc:0.766496\n",
      "[33]\tvalidation_0-auc:0.766749\n",
      "[34]\tvalidation_0-auc:0.767187\n",
      "[35]\tvalidation_0-auc:0.767454\n",
      "[36]\tvalidation_0-auc:0.767223\n",
      "[37]\tvalidation_0-auc:0.767135\n",
      "[38]\tvalidation_0-auc:0.767163\n",
      "[39]\tvalidation_0-auc:0.767544\n",
      "[40]\tvalidation_0-auc:0.767665\n",
      "[41]\tvalidation_0-auc:0.767182\n",
      "[42]\tvalidation_0-auc:0.76696\n",
      "[43]\tvalidation_0-auc:0.767098\n",
      "[44]\tvalidation_0-auc:0.767204\n",
      "[45]\tvalidation_0-auc:0.767548\n",
      "[46]\tvalidation_0-auc:0.767224\n",
      "[47]\tvalidation_0-auc:0.76725\n",
      "[48]\tvalidation_0-auc:0.767891\n",
      "[49]\tvalidation_0-auc:0.767445\n",
      "[50]\tvalidation_0-auc:0.767329\n",
      "[51]\tvalidation_0-auc:0.767217\n",
      "[52]\tvalidation_0-auc:0.766767\n",
      "[53]\tvalidation_0-auc:0.766848\n",
      "[54]\tvalidation_0-auc:0.767202\n",
      "[55]\tvalidation_0-auc:0.766778\n",
      "[56]\tvalidation_0-auc:0.766519\n",
      "[57]\tvalidation_0-auc:0.766155\n",
      "[58]\tvalidation_0-auc:0.766006\n",
      "[59]\tvalidation_0-auc:0.766159\n",
      "[60]\tvalidation_0-auc:0.766124\n",
      "[61]\tvalidation_0-auc:0.765911\n",
      "[62]\tvalidation_0-auc:0.765857\n",
      "[63]\tvalidation_0-auc:0.766007\n",
      "[64]\tvalidation_0-auc:0.766588\n",
      "[65]\tvalidation_0-auc:0.766329\n",
      "[66]\tvalidation_0-auc:0.766614\n",
      "[67]\tvalidation_0-auc:0.76609\n",
      "[68]\tvalidation_0-auc:0.766018\n",
      "[69]\tvalidation_0-auc:0.766268\n",
      "[70]\tvalidation_0-auc:0.76599\n",
      "[71]\tvalidation_0-auc:0.765845\n",
      "[72]\tvalidation_0-auc:0.765708\n",
      "[73]\tvalidation_0-auc:0.765637\n",
      "[74]\tvalidation_0-auc:0.765754\n",
      "[75]\tvalidation_0-auc:0.765888\n",
      "[76]\tvalidation_0-auc:0.765583\n",
      "[77]\tvalidation_0-auc:0.765728\n",
      "[78]\tvalidation_0-auc:0.76579\n",
      "[79]\tvalidation_0-auc:0.765849\n",
      "[80]\tvalidation_0-auc:0.765845\n",
      "[81]\tvalidation_0-auc:0.765889\n",
      "[82]\tvalidation_0-auc:0.765888\n",
      "[83]\tvalidation_0-auc:0.765693\n",
      "[84]\tvalidation_0-auc:0.765559\n",
      "[85]\tvalidation_0-auc:0.765868\n",
      "[86]\tvalidation_0-auc:0.765462\n",
      "[87]\tvalidation_0-auc:0.765432\n",
      "[88]\tvalidation_0-auc:0.765274\n",
      "[89]\tvalidation_0-auc:0.765148\n",
      "[90]\tvalidation_0-auc:0.764608\n",
      "[91]\tvalidation_0-auc:0.764756\n",
      "[92]\tvalidation_0-auc:0.764347\n",
      "[93]\tvalidation_0-auc:0.764324\n",
      "[94]\tvalidation_0-auc:0.764331\n",
      "[95]\tvalidation_0-auc:0.764558\n",
      "[96]\tvalidation_0-auc:0.76475\n",
      "[97]\tvalidation_0-auc:0.764773\n",
      "[98]\tvalidation_0-auc:0.764769\n",
      "[99]\tvalidation_0-auc:0.764659\n"
     ]
    }
   ],
   "source": [
    "xgb_es_wt = xgb_er_stop_fit(X_train_wt, Y_train_wt, ear_stop_round = 110, eval_set=[(X_test_wt, Y_test_wt)])"
   ]
  },
  {
   "cell_type": "code",
   "execution_count": 569,
   "metadata": {},
   "outputs": [],
   "source": [
    "xgb_es_wt_pred_tr = xgb_model_pred(xgb_es_wt, X_train_wt)\n",
    "xgb_es_wt_pred_te = xgb_model_pred(xgb_es_wt, X_test_wt)\n",
    "xgb_es_wt_pred_val = xgb_model_pred(xgb_es_wt, X_valid_wt)\n",
    "xgb_es_wt_pred_fin = xgb_model_pred(xgb_es_wt, train_with_team_test)\n",
    "\n",
    "xgb_es_wt_proba_tr = xgb_model_pred_proba(xgb_es_wt, X_train_wt)\n",
    "xgb_es_wt_proba_te = xgb_model_pred_proba(xgb_es_wt, X_test_wt)\n",
    "xgb_es_wt_proba_val = xgb_model_pred_proba(xgb_es_wt, X_valid_wt)\n",
    "xgb_es_wt_proba_fin = xgb_model_pred_proba(xgb_es_wt, train_with_team_test)"
   ]
  },
  {
   "cell_type": "code",
   "execution_count": 570,
   "metadata": {},
   "outputs": [
    {
     "name": "stdout",
     "output_type": "stream",
     "text": [
      "Predict\n",
      "roc auc score:  0.708173217885531\n",
      "roc auc score:  0.6754333735251872\n",
      "roc auc score:  0.6589642093473169\n",
      "Proba\n",
      "roc auc score:  0.8134782123061028\n",
      "roc auc score:  0.76789136535209\n",
      "roc auc score:  0.7503330448358959\n"
     ]
    }
   ],
   "source": [
    "print('Predict')\n",
    "roc_score_get(Y_train_wt, xgb_es_wt_pred_tr)\n",
    "roc_score_get(Y_test_wt, xgb_es_wt_pred_te)\n",
    "roc_score_get(Y_valid_wt, xgb_es_wt_pred_val)\n",
    "print('Proba')\n",
    "roc_score_get(Y_train_wt, xgb_es_wt_proba_tr)\n",
    "roc_score_get(Y_test_wt, xgb_es_wt_proba_te)\n",
    "roc_score_get(Y_valid_wt, xgb_es_wt_proba_val)"
   ]
  },
  {
   "cell_type": "code",
   "execution_count": 565,
   "metadata": {},
   "outputs": [
    {
     "name": "stdout",
     "output_type": "stream",
     "text": [
      "best score: 0.766306, best iteration: 96, best ntree limit 97\n"
     ]
    }
   ],
   "source": [
    "print(\"best score: {0}, best iteration: {1}, best ntree limit {2}\".\n",
    "      format(xgb_es_wt.best_score, xgb_es_wt.best_iteration, xgb_es_wt.best_ntree_limit))"
   ]
  },
  {
   "cell_type": "markdown",
   "metadata": {},
   "source": [
    "### DecisionTree "
   ]
  },
  {
   "cell_type": "code",
   "execution_count": 116,
   "metadata": {},
   "outputs": [],
   "source": [
    "tree_cl = tree_class(X_train_wt, Y_train_wt)"
   ]
  },
  {
   "cell_type": "code",
   "execution_count": 117,
   "metadata": {},
   "outputs": [],
   "source": [
    "tree_cl_pred_tr = xgb_model_pred(tree_cl, X_train_wt)\n",
    "tree_cl_pred_te = xgb_model_pred(tree_cl, X_test_wt)\n",
    "tree_cl_pred_val = xgb_model_pred(tree_cl, X_valid_wt)\n",
    "tree_cl_pred_fin = xgb_model_pred(tree_cl,train_with_team_test)\n",
    "\n",
    "tree_cl_prob_tr = xgb_model_pred_proba(tree_cl, X_train_wt)\n",
    "tree_cl_prob_te = xgb_model_pred_proba(tree_cl, X_test_wt)\n",
    "tree_cl_prob_val = xgb_model_pred_proba(tree_cl, X_valid_wt)\n",
    "tree_cl_prob_fin = xgb_model_pred_proba(tree_cl,train_with_team_test)"
   ]
  },
  {
   "cell_type": "code",
   "execution_count": 118,
   "metadata": {},
   "outputs": [
    {
     "name": "stdout",
     "output_type": "stream",
     "text": [
      "Predict\n",
      "roc auc score:  0.6660552476159892\n",
      "roc auc score:  0.680912169722649\n",
      "roc auc score:  0.6521590639106676\n",
      "Proba\n",
      "roc auc score:  0.731652125606407\n",
      "roc auc score:  0.7383388241102297\n",
      "roc auc score:  0.7087894138410888\n"
     ]
    }
   ],
   "source": [
    "print('Predict')\n",
    "roc_score_get(Y_train_wt, tree_cl_pred_tr)\n",
    "roc_score_get(Y_test_wt, tree_cl_pred_te)\n",
    "roc_score_get(Y_valid_wt, tree_cl_pred_val)\n",
    "print('Proba')\n",
    "roc_score_get(Y_train_wt, tree_cl_prob_tr)\n",
    "roc_score_get(Y_test_wt, tree_cl_prob_te)\n",
    "roc_score_get(Y_valid_wt, tree_cl_prob_val)"
   ]
  },
  {
   "cell_type": "markdown",
   "metadata": {},
   "source": [
    "### DecisionTree parameter search CV ( not effective)"
   ]
  },
  {
   "cell_type": "raw",
   "metadata": {},
   "source": [
    "param_grid=[{\n",
    "             'max_depth':np.arange(1, 30,1), \n",
    "             'min_samples_leaf':np.arange(1,20,1), \n",
    "            }]\n",
    "\n",
    "tree_gr = grid_searchCV(tree_cl, X_train_wt, Y_train_wt, param_grid, cv=5)"
   ]
  },
  {
   "cell_type": "raw",
   "metadata": {},
   "source": [
    "tree_cv_tr = xgb_model_pred(tree_gr, X_train_wt)\n",
    "tree_cv_te = xgb_model_pred(tree_gr, X_test_wt)\n",
    "tree_cv_val = xgb_model_pred(tree_gr, X_valid_wt)\n",
    "tree_cv_fin = xgb_model_pred(tree_gr, train_with_team_test)"
   ]
  },
  {
   "cell_type": "raw",
   "metadata": {},
   "source": [
    "roc_score_get(Y_train_wt, tree_cv_tr)\n",
    "roc_score_get(Y_test_wt, tree_cv_te)\n",
    "roc_score_get(Y_valid_wt, tree_cv_val)"
   ]
  },
  {
   "cell_type": "markdown",
   "metadata": {},
   "source": [
    "## We have too many importance, let's try make a separating feature importances(bad, mines 0.05%)"
   ]
  },
  {
   "cell_type": "markdown",
   "metadata": {},
   "source": [
    "https://www.kaggle.com/cast42/xgboost-with-early-stopping"
   ]
  },
  {
   "cell_type": "markdown",
   "metadata": {},
   "source": [
    "##  And let's try to make normalization it to another method"
   ]
  },
  {
   "cell_type": "code",
   "execution_count": 438,
   "metadata": {},
   "outputs": [],
   "source": [
    "from sklearn.preprocessing import normalize\n",
    "from sklearn.decomposition import PCA\n",
    "\n",
    "from sklearn.feature_selection import SelectPercentile\n",
    "from sklearn.feature_selection import f_classif,chi2\n",
    "from sklearn.preprocessing import Binarizer, scale"
   ]
  },
  {
   "cell_type": "code",
   "execution_count": 493,
   "metadata": {
    "scrolled": true
   },
   "outputs": [],
   "source": [
    "with_team_train = train_with_team_c[:]\n",
    "with_team_test = train_with_team_test_c[:]\n",
    "train_with_team_test = train_with_team__test_copy[:]"
   ]
  },
  {
   "cell_type": "code",
   "execution_count": 499,
   "metadata": {},
   "outputs": [],
   "source": [
    "def xgb_plot_importance(booster, figsize, **kwargs): \n",
    "    fig, ax = plt.subplots(1,1,figsize=figsize)\n",
    "    return plot_importance(booster=booster, ax=ax, **kwargs)"
   ]
  },
  {
   "cell_type": "markdown",
   "metadata": {},
   "source": [
    "#####  Split data"
   ]
  },
  {
   "cell_type": "code",
   "execution_count": 494,
   "metadata": {},
   "outputs": [],
   "source": [
    "y_with_team = with_team_train.win_team\n",
    "with_team_train.drop('win_team', axis=1, inplace=True)"
   ]
  },
  {
   "cell_type": "markdown",
   "metadata": {},
   "source": [
    "#####  Normalize"
   ]
  },
  {
   "cell_type": "code",
   "execution_count": 495,
   "metadata": {},
   "outputs": [],
   "source": [
    "X_normalized = normalize(with_team_train, axis=0)\n",
    "pca = PCA(n_components=2)\n",
    "X_pca = pca.fit_transform(X_normalized)\n",
    "with_team_train['PCA1'] = X_pca[:,0]\n",
    "with_team_train['PCA2'] = X_pca[:,1]"
   ]
  },
  {
   "cell_type": "markdown",
   "metadata": {},
   "source": [
    "#####  Search Importances parameters"
   ]
  },
  {
   "cell_type": "code",
   "execution_count": 500,
   "metadata": {},
   "outputs": [],
   "source": [
    "xgb_m = xgb_model_fit(with_team_train, y_with_team)"
   ]
  },
  {
   "cell_type": "code",
   "execution_count": 501,
   "metadata": {},
   "outputs": [],
   "source": [
    "xgb_m_pred_tr = xgb_model_pred(xgb_m, with_team_train)\n",
    "xgb_m_proba_tr = xgb_model_pred_proba(xgb_m, with_team_train)"
   ]
  },
  {
   "cell_type": "code",
   "execution_count": 502,
   "metadata": {},
   "outputs": [
    {
     "name": "stdout",
     "output_type": "stream",
     "text": [
      "Predict\n",
      "roc auc score:  0.7124223602484472\n",
      "Predict_proba\n",
      "roc auc score:  0.8238472270217665\n"
     ]
    }
   ],
   "source": [
    "print('Predict')\n",
    "roc_score_get(y_with_team, xgb_m_pred_tr)\n",
    "print('Predict_proba')\n",
    "roc_score_get(y_with_team, xgb_m_proba_tr)"
   ]
  },
  {
   "cell_type": "code",
   "execution_count": 503,
   "metadata": {},
   "outputs": [
    {
     "data": {
      "image/png": "[encoded data removed]",
      "text/plain": [
       "<Figure size 1440x2160 with 1 Axes>"
      ]
     },
     "metadata": {
      "needs_background": "light"
     },
     "output_type": "display_data"
    }
   ],
   "source": [
    "# plot feature importance\n",
    "xgb_plot_importance(xgb_m,  figsize = (20,30))\n",
    "plt.show()\n",
    "pass"
   ]
  },
  {
   "cell_type": "markdown",
   "metadata": {},
   "source": [
    "~ 20% features really importance"
   ]
  },
  {
   "cell_type": "code",
   "execution_count": 504,
   "metadata": {},
   "outputs": [],
   "source": [
    "p = 55"
   ]
  },
  {
   "cell_type": "markdown",
   "metadata": {},
   "source": [
    "#####  Binarizer"
   ]
  },
  {
   "cell_type": "code",
   "execution_count": 505,
   "metadata": {},
   "outputs": [],
   "source": [
    "X_bin = Binarizer().fit_transform(scale(with_team_train))\n",
    "selectChi2 = SelectPercentile(chi2, percentile=p).fit(X_bin, y_with_team)\n",
    "selectF_classif = SelectPercentile(f_classif, percentile=p).fit(with_team_train, y_with_team)"
   ]
  },
  {
   "cell_type": "code",
   "execution_count": 506,
   "metadata": {},
   "outputs": [
    {
     "name": "stdout",
     "output_type": "stream",
     "text": [
      "Chi2 selected 70 features ['home_player_1', 'home_player_2', 'home_player_3', 'home_player_4', 'home_player_5', 'home_player_6', 'home_player_7', 'home_player_8', 'home_player_9', 'home_player_10', 'home_player_11', 'B365H', 'B365D', 'B365A', 'BWH', 'BWD', 'BWA', 'IWH', 'IWA', 'LBH', 'LBA', 'PSH', 'PSA', 'WHH', 'WHA', 'SJH', 'SJA', 'VCH', 'VCD', 'VCA', 'GBA', 'BSA', 'acceleration_h', 'agility_h', 'ball_control_h', 'crossing_h', 'curve_h', 'dribbling_h', 'finishing_h', 'free_kick_accuracy_h', 'heading_accuracy_h', 'interceptions_h', 'long_passing_h', 'long_shots_h', 'overall_rating_h', 'penalties_h', 'positioning_h', 'potential_h', 'reactions_h', 'short_passing_h', 'shot_power_h', 'sprint_speed_h', 'stamina_h', 'vision_h', 'volleys_h', 'acceleration_h_', 'agility_h_', 'ball_control_h_', 'dribbling_h_', 'finishing_h_', 'long_passing_h_', 'long_shots_h_', 'positioning_h_', 'potential_h_', 'short_passing_h_', 'shot_power_h_', 'sprint_speed_h_', 'stamina_h_', 'volleys_h_', 'PCA1'].\n"
     ]
    }
   ],
   "source": [
    "chi2_selected = selectChi2.get_support()\n",
    "chi2_selected_features = [ f for i,f in enumerate(with_team_train.columns) if chi2_selected[i]]\n",
    "print('Chi2 selected {} features {}.'.format(chi2_selected.sum(),\n",
    "   chi2_selected_features))"
   ]
  },
  {
   "cell_type": "code",
   "execution_count": 507,
   "metadata": {},
   "outputs": [
    {
     "name": "stdout",
     "output_type": "stream",
     "text": [
      "F_classif selected 70 features ['home_player_1', 'home_player_2', 'home_player_3', 'home_player_4', 'home_player_5', 'home_player_6', 'home_player_7', 'home_player_8', 'home_player_9', 'home_player_10', 'home_player_11', 'away_player_7', 'away_player_8', 'away_player_10', 'B365H', 'B365A', 'BWH', 'BWA', 'IWH', 'IWA', 'LBH', 'LBA', 'PSH', 'PSA', 'WHH', 'WHA', 'SJH', 'SJA', 'VCH', 'VCA', 'GBH', 'GBA', 'BSH', 'BSA', 'acceleration_h', 'agility_h', 'ball_control_h', 'crossing_h', 'curve_h', 'dribbling_h', 'finishing_h', 'free_kick_accuracy_h', 'long_passing_h', 'long_shots_h', 'overall_rating_h', 'penalties_h', 'positioning_h', 'potential_h', 'reactions_h', 'short_passing_h', 'shot_power_h', 'sprint_speed_h', 'stamina_h', 'vision_h', 'volleys_h', 'acceleration_h_', 'agility_h_', 'ball_control_h_', 'curve_h_', 'dribbling_h_', 'finishing_h_', 'long_passing_h_', 'overall_rating_h_', 'potential_h_', 'reactions_h_', 'short_passing_h_', 'sprint_speed_h_', 'vision_h_', 'PCA1', 'PCA2'].\n"
     ]
    }
   ],
   "source": [
    "f_classif_selected = selectF_classif.get_support()\n",
    "f_classif_selected_features = [ f for i,f in enumerate(with_team_train.columns) if f_classif_selected[i]]\n",
    "print('F_classif selected {} features {}.'.format(f_classif_selected.sum(),\n",
    "   f_classif_selected_features))"
   ]
  },
  {
   "cell_type": "code",
   "execution_count": 508,
   "metadata": {},
   "outputs": [
    {
     "name": "stdout",
     "output_type": "stream",
     "text": [
      "Chi2 & F_classif selected 60 features\n",
      "['home_player_1', 'home_player_2', 'home_player_3', 'home_player_4', 'home_player_5', 'home_player_6', 'home_player_7', 'home_player_8', 'home_player_9', 'home_player_10', 'home_player_11', 'B365H', 'B365A', 'BWH', 'BWA', 'IWH', 'IWA', 'LBH', 'LBA', 'PSH', 'PSA', 'WHH', 'WHA', 'SJH', 'SJA', 'VCH', 'VCA', 'GBA', 'BSA', 'acceleration_h', 'agility_h', 'ball_control_h', 'crossing_h', 'curve_h', 'dribbling_h', 'finishing_h', 'free_kick_accuracy_h', 'long_passing_h', 'long_shots_h', 'overall_rating_h', 'penalties_h', 'positioning_h', 'potential_h', 'reactions_h', 'short_passing_h', 'shot_power_h', 'sprint_speed_h', 'stamina_h', 'vision_h', 'volleys_h', 'acceleration_h_', 'agility_h_', 'ball_control_h_', 'dribbling_h_', 'finishing_h_', 'long_passing_h_', 'potential_h_', 'short_passing_h_', 'sprint_speed_h_', 'PCA1']\n"
     ]
    }
   ],
   "source": [
    "selected = chi2_selected & f_classif_selected\n",
    "print('Chi2 & F_classif selected {} features'.format(selected.sum()))\n",
    "features = [ f for f,s in zip(with_team_train.columns, selected) if s]\n",
    "print (features)"
   ]
  },
  {
   "cell_type": "markdown",
   "metadata": {},
   "source": [
    "####  Try reduce the amount of parameters"
   ]
  },
  {
   "cell_type": "code",
   "execution_count": 560,
   "metadata": {},
   "outputs": [],
   "source": [
    "X_sel = with_team_train[features]\n",
    "\n",
    "X_train, X_test, y_train, y_test = \\\n",
    "            train_test_split(X_sel, y_with_team, random_state=1, stratify=y_with_team, test_size=0.4)\n",
    "\n",
    "X_train, X_valid, y_train, y_valid = \\\n",
    "            train_test_split(X_sel, y_with_team, random_state=1, stratify=y_with_team, test_size=0.2)"
   ]
  },
  {
   "cell_type": "code",
   "execution_count": 510,
   "metadata": {},
   "outputs": [
    {
     "name": "stdout",
     "output_type": "stream",
     "text": [
      "[0]\tvalidation_0-auc:0.733451\n",
      "Will train until validation_0-auc hasn't improved in 250 rounds.\n",
      "[1]\tvalidation_0-auc:0.735013\n",
      "[2]\tvalidation_0-auc:0.740087\n",
      "[3]\tvalidation_0-auc:0.741376\n",
      "[4]\tvalidation_0-auc:0.743223\n",
      "[5]\tvalidation_0-auc:0.74312\n",
      "[6]\tvalidation_0-auc:0.743631\n",
      "[7]\tvalidation_0-auc:0.745994\n",
      "[8]\tvalidation_0-auc:0.746859\n",
      "[9]\tvalidation_0-auc:0.747446\n",
      "[10]\tvalidation_0-auc:0.748827\n",
      "[11]\tvalidation_0-auc:0.74983\n",
      "[12]\tvalidation_0-auc:0.750027\n",
      "[13]\tvalidation_0-auc:0.750245\n",
      "[14]\tvalidation_0-auc:0.752178\n",
      "[15]\tvalidation_0-auc:0.753147\n",
      "[16]\tvalidation_0-auc:0.753433\n",
      "[17]\tvalidation_0-auc:0.75342\n",
      "[18]\tvalidation_0-auc:0.754593\n",
      "[19]\tvalidation_0-auc:0.755673\n",
      "[20]\tvalidation_0-auc:0.755734\n",
      "[21]\tvalidation_0-auc:0.756592\n",
      "[22]\tvalidation_0-auc:0.757193\n",
      "[23]\tvalidation_0-auc:0.758191\n",
      "[24]\tvalidation_0-auc:0.759166\n",
      "[25]\tvalidation_0-auc:0.760123\n",
      "[26]\tvalidation_0-auc:0.760589\n",
      "[27]\tvalidation_0-auc:0.761225\n",
      "[28]\tvalidation_0-auc:0.761559\n",
      "[29]\tvalidation_0-auc:0.762446\n",
      "[30]\tvalidation_0-auc:0.76291\n",
      "[31]\tvalidation_0-auc:0.763965\n",
      "[32]\tvalidation_0-auc:0.764394\n",
      "[33]\tvalidation_0-auc:0.76446\n",
      "[34]\tvalidation_0-auc:0.76494\n",
      "[35]\tvalidation_0-auc:0.764994\n",
      "[36]\tvalidation_0-auc:0.765794\n",
      "[37]\tvalidation_0-auc:0.766172\n",
      "[38]\tvalidation_0-auc:0.766967\n",
      "[39]\tvalidation_0-auc:0.767167\n",
      "[40]\tvalidation_0-auc:0.767706\n",
      "[41]\tvalidation_0-auc:0.768201\n",
      "[42]\tvalidation_0-auc:0.76861\n",
      "[43]\tvalidation_0-auc:0.768813\n",
      "[44]\tvalidation_0-auc:0.769381\n",
      "[45]\tvalidation_0-auc:0.769963\n",
      "[46]\tvalidation_0-auc:0.770275\n",
      "[47]\tvalidation_0-auc:0.770523\n",
      "[48]\tvalidation_0-auc:0.770798\n",
      "[49]\tvalidation_0-auc:0.770895\n",
      "[50]\tvalidation_0-auc:0.771208\n",
      "[51]\tvalidation_0-auc:0.771764\n",
      "[52]\tvalidation_0-auc:0.771881\n",
      "[53]\tvalidation_0-auc:0.771915\n",
      "[54]\tvalidation_0-auc:0.772073\n",
      "[55]\tvalidation_0-auc:0.772741\n",
      "[56]\tvalidation_0-auc:0.772933\n",
      "[57]\tvalidation_0-auc:0.773113\n",
      "[58]\tvalidation_0-auc:0.773544\n",
      "[59]\tvalidation_0-auc:0.773728\n",
      "[60]\tvalidation_0-auc:0.774286\n",
      "[61]\tvalidation_0-auc:0.774251\n",
      "[62]\tvalidation_0-auc:0.774515\n",
      "[63]\tvalidation_0-auc:0.774776\n",
      "[64]\tvalidation_0-auc:0.774938\n",
      "[65]\tvalidation_0-auc:0.775344\n",
      "[66]\tvalidation_0-auc:0.775376\n",
      "[67]\tvalidation_0-auc:0.775454\n",
      "[68]\tvalidation_0-auc:0.776093\n",
      "[69]\tvalidation_0-auc:0.776412\n",
      "[70]\tvalidation_0-auc:0.777093\n",
      "[71]\tvalidation_0-auc:0.777275\n",
      "[72]\tvalidation_0-auc:0.777427\n",
      "[73]\tvalidation_0-auc:0.777809\n",
      "[74]\tvalidation_0-auc:0.778262\n",
      "[75]\tvalidation_0-auc:0.778569\n",
      "[76]\tvalidation_0-auc:0.778946\n",
      "[77]\tvalidation_0-auc:0.778986\n",
      "[78]\tvalidation_0-auc:0.779048\n",
      "[79]\tvalidation_0-auc:0.779196\n",
      "[80]\tvalidation_0-auc:0.779518\n",
      "[81]\tvalidation_0-auc:0.77998\n",
      "[82]\tvalidation_0-auc:0.780116\n",
      "[83]\tvalidation_0-auc:0.780311\n",
      "[84]\tvalidation_0-auc:0.780907\n",
      "[85]\tvalidation_0-auc:0.781404\n",
      "[86]\tvalidation_0-auc:0.781643\n",
      "[87]\tvalidation_0-auc:0.781844\n",
      "[88]\tvalidation_0-auc:0.781976\n",
      "[89]\tvalidation_0-auc:0.782048\n",
      "[90]\tvalidation_0-auc:0.782854\n",
      "[91]\tvalidation_0-auc:0.78343\n",
      "[92]\tvalidation_0-auc:0.783822\n",
      "[93]\tvalidation_0-auc:0.783938\n",
      "[94]\tvalidation_0-auc:0.784051\n",
      "[95]\tvalidation_0-auc:0.784275\n",
      "[96]\tvalidation_0-auc:0.78441\n",
      "[97]\tvalidation_0-auc:0.784502\n",
      "[98]\tvalidation_0-auc:0.784623\n",
      "[99]\tvalidation_0-auc:0.785067\n"
     ]
    }
   ],
   "source": [
    "xgb_sep = xgb_er_stop_fit(X_train, y_train, ear_stop_round = 250, eval_set=[(X_test, y_test)])"
   ]
  },
  {
   "cell_type": "code",
   "execution_count": 513,
   "metadata": {},
   "outputs": [],
   "source": [
    "xgb_sep_pred_tr = xgb_model_pred(xgb_sep, X_train)\n",
    "xgb_sep_pred_te = xgb_model_pred(xgb_sep, X_test)\n",
    "xgb_sep_pred_val = xgb_model_pred(xgb_sep, X_valid)\n",
    "#xgb_sep_pred_fin = xgb_model_pred(xgb_sep, train_with_team_test)\n",
    "\n",
    "xgb_sep_proba_tr = xgb_model_pred_proba(xgb_sep, X_train)\n",
    "xgb_sep_proba_te = xgb_model_pred_proba(xgb_sep, X_test)\n",
    "xgb_sep_proba_val = xgb_model_pred_proba(xgb_sep, X_valid)\n",
    "#xgb_sep_proba_fin = xgb_model_pred_proba(xgb_sep, train_with_team_test)"
   ]
  },
  {
   "cell_type": "code",
   "execution_count": 514,
   "metadata": {},
   "outputs": [
    {
     "name": "stdout",
     "output_type": "stream",
     "text": [
      "Predict\n",
      "roc auc score:  0.7198255984213608\n",
      "roc auc score:  0.6873682562407998\n",
      "roc auc score:  0.6553112236741241\n",
      "Proba\n",
      "roc auc score:  0.8273070115058925\n",
      "roc auc score:  0.7850671717969386\n",
      "roc auc score:  0.7396913520360409\n"
     ]
    }
   ],
   "source": [
    "print('Predict')\n",
    "roc_score_get(y_train, xgb_sep_pred_tr)\n",
    "roc_score_get(y_test, xgb_sep_pred_te)\n",
    "roc_score_get(y_valid, xgb_sep_pred_val)\n",
    "print('Proba')\n",
    "roc_score_get(y_train, xgb_sep_proba_tr)\n",
    "roc_score_get(y_test, xgb_sep_proba_te)\n",
    "roc_score_get(y_valid, xgb_sep_proba_val)"
   ]
  },
  {
   "cell_type": "markdown",
   "metadata": {},
   "source": [
    "### Prepare final data "
   ]
  },
  {
   "cell_type": "code",
   "execution_count": 515,
   "metadata": {},
   "outputs": [],
   "source": [
    "test_normalized = normalize(train_with_team_test, axis=0)\n",
    "pca = PCA(n_components=2)\n",
    "test_pca = pca.fit_transform(test_normalized)\n",
    "train_with_team_test['PCA1'] = test_pca[:,0]\n",
    "train_with_team_test['PCA2'] = test_pca[:,1]\n",
    "sel_test = train_with_team_test[features]    "
   ]
  },
  {
   "cell_type": "code",
   "execution_count": 520,
   "metadata": {},
   "outputs": [],
   "source": [
    "xgb_sep_proba_fin = xgb_sep.predict_proba(sel_test, ntree_limit=xgb_sep.best_iteration)[:,1]"
   ]
  },
  {
   "cell_type": "markdown",
   "metadata": {},
   "source": [
    "### Try use this (bad,  Only 0.73 on final(mines 0.05) "
   ]
  },
  {
   "cell_type": "markdown",
   "metadata": {},
   "source": [
    "https://www.analyticsvidhya.com/blog/2016/03/complete-guide-parameter-tuning-xgboost-with-codes-python/"
   ]
  },
  {
   "cell_type": "markdown",
   "metadata": {},
   "source": [
    "####  Learn with CV\n"
   ]
  },
  {
   "cell_type": "code",
   "execution_count": 283,
   "metadata": {
    "scrolled": true
   },
   "outputs": [],
   "source": [
    "def modelfit(alg, dtrain, predictors, target_col, useTrainCV=True, cv_folds=5, early_stopping_rounds=50):\n",
    "    \n",
    "    if useTrainCV:\n",
    "        xgb_param = alg.get_xgb_params()\n",
    "        xgtrain = xgb.DMatrix(dtrain[predictors].values, label=dtrain[target].values)\n",
    "        cvresult = xgb.cv(xgb_param, xgtrain, num_boost_round=alg.get_params()['n_estimators'], nfold=cv_folds,\n",
    "            metrics='auc', early_stopping_rounds=early_stopping_rounds)#, show_progress=False)\n",
    "        alg.set_params(n_estimators=cvresult.shape[0])\n",
    "    \n",
    "    #Fit the algorithm on the data\n",
    "    alg.fit(dtrain[predictors], dtrain[target_col],eval_metric='auc')\n",
    "        \n",
    "    #Predict training set:\n",
    "    dtrain_predictions = alg.predict(dtrain[predictors])\n",
    "    dtrain_predprob = alg.predict_proba(dtrain[predictors])[:,1]\n",
    "        \n",
    "    #Print model report:\n",
    "    print (\"\\nModel Report\")\n",
    "    print (\"Accuracy : %.4g\" % accuracy_score(dtrain[target_col].values, dtrain_predictions))\n",
    "    print (\"AUC Score (Train): %f\" % roc_auc_score(dtrain[target_col], dtrain_predprob))\n",
    "                    \n",
    "    feat_imp = pd.Series(alg.get_booster().get_fscore()).sort_values(ascending=False)\n",
    "    feat_imp.plot(kind='bar', title='Feature Importances', figsize=(30, 20))\n",
    "    plt.ylabel('Feature Importance Score')"
   ]
  },
  {
   "cell_type": "code",
   "execution_count": 255,
   "metadata": {},
   "outputs": [],
   "source": [
    "with_team_train = train_with_team_c[:]\n",
    "with_team_test = train_with_team_test_c[:]\n",
    "\n",
    "target = 'win_team'"
   ]
  },
  {
   "cell_type": "code",
   "execution_count": 284,
   "metadata": {},
   "outputs": [
    {
     "name": "stdout",
     "output_type": "stream",
     "text": [
      "\n",
      "Model Report\n",
      "Accuracy : 0.7572\n",
      "AUC Score (Train): 0.832301\n"
     ]
    },
    {
     "data": {
      "image/png": "[encoded data removed]",
      "text/plain": [
       "<Figure size 2160x1440 with 1 Axes>"
      ]
     },
     "metadata": {
      "needs_background": "light"
     },
     "output_type": "display_data"
    }
   ],
   "source": [
    "#Choose all predictors except target & IDcols\n",
    "predictors = [x for x in with_team_train.columns if x not in [target]]\n",
    "xgb1 = xgb.XGBClassifier(\n",
    " learning_rate =0.1,\n",
    " n_estimators=1000,\n",
    " max_depth=5,\n",
    " min_child_weight=1,\n",
    " gamma=0,\n",
    " subsample=0.8,\n",
    " colsample_bytree=0.8,\n",
    " objective= 'binary:logistic',\n",
    " nthread=4,\n",
    " scale_pos_weight=1,\n",
    " seed=27)\n",
    "modelfit(xgb1, with_team_train, predictors, target)"
   ]
  },
  {
   "cell_type": "code",
   "execution_count": 287,
   "metadata": {},
   "outputs": [
    {
     "data": {
      "text/plain": [
       "GridSearchCV(cv=5, error_score='raise-deprecating',\n",
       "       estimator=XGBClassifier(base_score=0.5, booster='gbtree', colsample_bylevel=1,\n",
       "       colsample_bytree=0.8, gamma=0, learning_rate=0.1, max_delta_step=0,\n",
       "       max_depth=5, min_child_weight=1, missing=None, n_estimators=140,\n",
       "       n_jobs=1, nthread=4, objective='binary:logistic', random_state=0,\n",
       "       reg_alpha=0, reg_lambda=1, scale_pos_weight=1, seed=27, silent=True,\n",
       "       subsample=0.8),\n",
       "       fit_params=None, iid=False, n_jobs=4,\n",
       "       param_grid={'max_depth': range(3, 10, 2), 'min_child_weight': range(1, 6, 2)},\n",
       "       pre_dispatch='2*n_jobs', refit=True, return_train_score='warn',\n",
       "       scoring='roc_auc', verbose=0)"
      ]
     },
     "execution_count": 287,
     "metadata": {},
     "output_type": "execute_result"
    }
   ],
   "source": [
    "param_test1 = {\n",
    " 'max_depth':range(3,10,2),\n",
    " 'min_child_weight':range(1,6,2)\n",
    "}\n",
    "gsearch1 = GridSearchCV(estimator = xgb.XGBClassifier( learning_rate =0.1, n_estimators=140, max_depth=5,\n",
    " min_child_weight=1, gamma=0, subsample=0.8, colsample_bytree=0.8,\n",
    " objective= 'binary:logistic', nthread=4, scale_pos_weight=1, seed=27), \n",
    " param_grid = param_test1, scoring='roc_auc',n_jobs=4,iid=False, cv=5)\n",
    "\n",
    "gsearch1.fit(with_team_train[predictors], with_team_train[target])\n",
    "pass"
   ]
  },
  {
   "cell_type": "code",
   "execution_count": 332,
   "metadata": {
    "scrolled": true
   },
   "outputs": [
    {
     "name": "stdout",
     "output_type": "stream",
     "text": [
      "{'gamma': 0.004} 0.7611968519795121\n"
     ]
    },
    {
     "data": {
      "text/html": [
       "<div>\n",
       "<style scoped>\n",
       "    .dataframe tbody tr th:only-of-type {\n",
       "        vertical-align: middle;\n",
       "    }\n",
       "\n",
       "    .dataframe tbody tr th {\n",
       "        vertical-align: top;\n",
       "    }\n",
       "\n",
       "    .dataframe thead th {\n",
       "        text-align: right;\n",
       "    }\n",
       "</style>\n",
       "<table border=\"1\" class=\"dataframe\">\n",
       "  <thead>\n",
       "    <tr style=\"text-align: right;\">\n",
       "      <th></th>\n",
       "      <th>mean_test_score</th>\n",
       "      <th>std_test_score</th>\n",
       "      <th>params</th>\n",
       "    </tr>\n",
       "  </thead>\n",
       "  <tbody>\n",
       "    <tr>\n",
       "      <th>0</th>\n",
       "      <td>0.761195</td>\n",
       "      <td>0.009481</td>\n",
       "      <td>{'gamma': 0.003}</td>\n",
       "    </tr>\n",
       "    <tr>\n",
       "      <th>1</th>\n",
       "      <td>0.761195</td>\n",
       "      <td>0.009481</td>\n",
       "      <td>{'gamma': 0.0035}</td>\n",
       "    </tr>\n",
       "    <tr>\n",
       "      <th>2</th>\n",
       "      <td>0.761197</td>\n",
       "      <td>0.009481</td>\n",
       "      <td>{'gamma': 0.004}</td>\n",
       "    </tr>\n",
       "    <tr>\n",
       "      <th>3</th>\n",
       "      <td>0.761197</td>\n",
       "      <td>0.009481</td>\n",
       "      <td>{'gamma': 0.0045000000000000005}</td>\n",
       "    </tr>\n",
       "  </tbody>\n",
       "</table>\n",
       "</div>"
      ],
      "text/plain": [
       "   mean_test_score  std_test_score                            params\n",
       "0         0.761195        0.009481                  {'gamma': 0.003}\n",
       "1         0.761195        0.009481                 {'gamma': 0.0035}\n",
       "2         0.761197        0.009481                  {'gamma': 0.004}\n",
       "3         0.761197        0.009481  {'gamma': 0.0045000000000000005}"
      ]
     },
     "execution_count": 332,
     "metadata": {},
     "output_type": "execute_result"
    }
   ],
   "source": [
    "print(gsearch1.best_params_, gsearch1.best_score_)\n",
    "pd.DataFrame(gsearch1.cv_results_)[['mean_test_score', 'std_test_score', 'params']].head(10)"
   ]
  },
  {
   "cell_type": "markdown",
   "metadata": {},
   "source": [
    "### Next Params, we need the following range"
   ]
  },
  {
   "cell_type": "code",
   "execution_count": 314,
   "metadata": {},
   "outputs": [],
   "source": [
    "param_test1 = {\n",
    " 'max_depth': [1,2,3],\n",
    " 'min_child_weight':[2,3,4]\n",
    "}\n",
    "gsearch1 = GridSearchCV(estimator = xgb.XGBClassifier( learning_rate =0.1, n_estimators=140, max_depth=5,\n",
    " min_child_weight=1, gamma=0, subsample=0.8, colsample_bytree=0.8,\n",
    " objective= 'binary:logistic', nthread=4, scale_pos_weight=1, seed=27), \n",
    " param_grid = param_test1, scoring='roc_auc',n_jobs=4,iid=False, cv=5)\n",
    "\n",
    "gsearch1.fit(with_team_train[predictors], with_team_train[target])\n",
    "pass"
   ]
  },
  {
   "cell_type": "code",
   "execution_count": 315,
   "metadata": {
    "scrolled": true
   },
   "outputs": [
    {
     "name": "stdout",
     "output_type": "stream",
     "text": [
      "{'max_depth': 2, 'min_child_weight': 3} 0.7611949389852251\n"
     ]
    },
    {
     "data": {
      "text/html": [
       "<div>\n",
       "<style scoped>\n",
       "    .dataframe tbody tr th:only-of-type {\n",
       "        vertical-align: middle;\n",
       "    }\n",
       "\n",
       "    .dataframe tbody tr th {\n",
       "        vertical-align: top;\n",
       "    }\n",
       "\n",
       "    .dataframe thead th {\n",
       "        text-align: right;\n",
       "    }\n",
       "</style>\n",
       "<table border=\"1\" class=\"dataframe\">\n",
       "  <thead>\n",
       "    <tr style=\"text-align: right;\">\n",
       "      <th></th>\n",
       "      <th>mean_test_score</th>\n",
       "      <th>std_test_score</th>\n",
       "      <th>params</th>\n",
       "    </tr>\n",
       "  </thead>\n",
       "  <tbody>\n",
       "    <tr>\n",
       "      <th>0</th>\n",
       "      <td>0.758262</td>\n",
       "      <td>0.009975</td>\n",
       "      <td>{'max_depth': 1, 'min_child_weight': 2}</td>\n",
       "    </tr>\n",
       "    <tr>\n",
       "      <th>1</th>\n",
       "      <td>0.758262</td>\n",
       "      <td>0.009975</td>\n",
       "      <td>{'max_depth': 1, 'min_child_weight': 3}</td>\n",
       "    </tr>\n",
       "    <tr>\n",
       "      <th>2</th>\n",
       "      <td>0.758253</td>\n",
       "      <td>0.009963</td>\n",
       "      <td>{'max_depth': 1, 'min_child_weight': 4}</td>\n",
       "    </tr>\n",
       "    <tr>\n",
       "      <th>3</th>\n",
       "      <td>0.761175</td>\n",
       "      <td>0.010117</td>\n",
       "      <td>{'max_depth': 2, 'min_child_weight': 2}</td>\n",
       "    </tr>\n",
       "    <tr>\n",
       "      <th>4</th>\n",
       "      <td>0.761195</td>\n",
       "      <td>0.009481</td>\n",
       "      <td>{'max_depth': 2, 'min_child_weight': 3}</td>\n",
       "    </tr>\n",
       "    <tr>\n",
       "      <th>5</th>\n",
       "      <td>0.760922</td>\n",
       "      <td>0.010314</td>\n",
       "      <td>{'max_depth': 2, 'min_child_weight': 4}</td>\n",
       "    </tr>\n",
       "    <tr>\n",
       "      <th>6</th>\n",
       "      <td>0.758181</td>\n",
       "      <td>0.010512</td>\n",
       "      <td>{'max_depth': 3, 'min_child_weight': 2}</td>\n",
       "    </tr>\n",
       "    <tr>\n",
       "      <th>7</th>\n",
       "      <td>0.757794</td>\n",
       "      <td>0.010236</td>\n",
       "      <td>{'max_depth': 3, 'min_child_weight': 3}</td>\n",
       "    </tr>\n",
       "    <tr>\n",
       "      <th>8</th>\n",
       "      <td>0.757905</td>\n",
       "      <td>0.010779</td>\n",
       "      <td>{'max_depth': 3, 'min_child_weight': 4}</td>\n",
       "    </tr>\n",
       "  </tbody>\n",
       "</table>\n",
       "</div>"
      ],
      "text/plain": [
       "   mean_test_score  std_test_score                                   params\n",
       "0         0.758262        0.009975  {'max_depth': 1, 'min_child_weight': 2}\n",
       "1         0.758262        0.009975  {'max_depth': 1, 'min_child_weight': 3}\n",
       "2         0.758253        0.009963  {'max_depth': 1, 'min_child_weight': 4}\n",
       "3         0.761175        0.010117  {'max_depth': 2, 'min_child_weight': 2}\n",
       "4         0.761195        0.009481  {'max_depth': 2, 'min_child_weight': 3}\n",
       "5         0.760922        0.010314  {'max_depth': 2, 'min_child_weight': 4}\n",
       "6         0.758181        0.010512  {'max_depth': 3, 'min_child_weight': 2}\n",
       "7         0.757794        0.010236  {'max_depth': 3, 'min_child_weight': 3}\n",
       "8         0.757905        0.010779  {'max_depth': 3, 'min_child_weight': 4}"
      ]
     },
     "execution_count": 315,
     "metadata": {},
     "output_type": "execute_result"
    }
   ],
   "source": [
    "print(gsearch1.best_params_, gsearch1.best_score_)\n",
    "pd.DataFrame(gsearch1.cv_results_)[['mean_test_score', 'std_test_score', 'params']].head(15)"
   ]
  },
  {
   "cell_type": "markdown",
   "metadata": {},
   "source": [
    "## Tune Gamma"
   ]
  },
  {
   "cell_type": "code",
   "execution_count": 316,
   "metadata": {},
   "outputs": [],
   "source": [
    "param_test1 = {\n",
    " 'gamma':[i/10.0 for i in range(0,5)]\n",
    "}\n",
    "gsearch1 = GridSearchCV(estimator = xgb.XGBClassifier( learning_rate =0.1, n_estimators=140, max_depth=2,\n",
    " min_child_weight=3, gamma=0, subsample=0.8, colsample_bytree=0.8,\n",
    " objective= 'binary:logistic', nthread=4, scale_pos_weight=1, seed=27), \n",
    " param_grid = param_test1, scoring='roc_auc',n_jobs=4,iid=False, cv=5)\n",
    "\n",
    "gsearch1.fit(with_team_train[predictors], with_team_train[target])\n",
    "pass"
   ]
  },
  {
   "cell_type": "code",
   "execution_count": 317,
   "metadata": {
    "scrolled": true
   },
   "outputs": [
    {
     "name": "stdout",
     "output_type": "stream",
     "text": [
      "{'gamma': 0.1} 0.7611968519795121\n"
     ]
    },
    {
     "data": {
      "text/html": [
       "<div>\n",
       "<style scoped>\n",
       "    .dataframe tbody tr th:only-of-type {\n",
       "        vertical-align: middle;\n",
       "    }\n",
       "\n",
       "    .dataframe tbody tr th {\n",
       "        vertical-align: top;\n",
       "    }\n",
       "\n",
       "    .dataframe thead th {\n",
       "        text-align: right;\n",
       "    }\n",
       "</style>\n",
       "<table border=\"1\" class=\"dataframe\">\n",
       "  <thead>\n",
       "    <tr style=\"text-align: right;\">\n",
       "      <th></th>\n",
       "      <th>mean_test_score</th>\n",
       "      <th>std_test_score</th>\n",
       "      <th>params</th>\n",
       "    </tr>\n",
       "  </thead>\n",
       "  <tbody>\n",
       "    <tr>\n",
       "      <th>0</th>\n",
       "      <td>0.761195</td>\n",
       "      <td>0.009481</td>\n",
       "      <td>{'gamma': 0.0}</td>\n",
       "    </tr>\n",
       "    <tr>\n",
       "      <th>1</th>\n",
       "      <td>0.761197</td>\n",
       "      <td>0.009481</td>\n",
       "      <td>{'gamma': 0.1}</td>\n",
       "    </tr>\n",
       "    <tr>\n",
       "      <th>2</th>\n",
       "      <td>0.761197</td>\n",
       "      <td>0.009481</td>\n",
       "      <td>{'gamma': 0.2}</td>\n",
       "    </tr>\n",
       "    <tr>\n",
       "      <th>3</th>\n",
       "      <td>0.761197</td>\n",
       "      <td>0.009481</td>\n",
       "      <td>{'gamma': 0.3}</td>\n",
       "    </tr>\n",
       "    <tr>\n",
       "      <th>4</th>\n",
       "      <td>0.761197</td>\n",
       "      <td>0.009481</td>\n",
       "      <td>{'gamma': 0.4}</td>\n",
       "    </tr>\n",
       "  </tbody>\n",
       "</table>\n",
       "</div>"
      ],
      "text/plain": [
       "   mean_test_score  std_test_score          params\n",
       "0         0.761195        0.009481  {'gamma': 0.0}\n",
       "1         0.761197        0.009481  {'gamma': 0.1}\n",
       "2         0.761197        0.009481  {'gamma': 0.2}\n",
       "3         0.761197        0.009481  {'gamma': 0.3}\n",
       "4         0.761197        0.009481  {'gamma': 0.4}"
      ]
     },
     "execution_count": 317,
     "metadata": {},
     "output_type": "execute_result"
    }
   ],
   "source": [
    "print(gsearch1.best_params_, gsearch1.best_score_)\n",
    "pd.DataFrame(gsearch1.cv_results_)[['mean_test_score', 'std_test_score', 'params']].head(15)"
   ]
  },
  {
   "cell_type": "markdown",
   "metadata": {},
   "source": [
    "### Next Params, we need the following range"
   ]
  },
  {
   "cell_type": "code",
   "execution_count": 318,
   "metadata": {},
   "outputs": [],
   "source": [
    "param_test1 = {\n",
    " 'gamma': np.arange(0.1, 0.5, 0.1)\n",
    "}\n",
    "gsearch1 = GridSearchCV(estimator = xgb.XGBClassifier( learning_rate =0.1, n_estimators=140, max_depth=2,\n",
    " min_child_weight=3, gamma=0, subsample=0.8, colsample_bytree=0.8,\n",
    " objective= 'binary:logistic', nthread=4, scale_pos_weight=1, seed=27), \n",
    " param_grid = param_test1, scoring='roc_auc',n_jobs=4,iid=False, cv=5)\n",
    "\n",
    "gsearch1.fit(with_team_train[predictors], with_team_train[target])\n",
    "pass"
   ]
  },
  {
   "cell_type": "code",
   "execution_count": 319,
   "metadata": {
    "scrolled": true
   },
   "outputs": [
    {
     "name": "stdout",
     "output_type": "stream",
     "text": [
      "{'gamma': 0.1} 0.7611968519795121\n"
     ]
    },
    {
     "data": {
      "text/html": [
       "<div>\n",
       "<style scoped>\n",
       "    .dataframe tbody tr th:only-of-type {\n",
       "        vertical-align: middle;\n",
       "    }\n",
       "\n",
       "    .dataframe tbody tr th {\n",
       "        vertical-align: top;\n",
       "    }\n",
       "\n",
       "    .dataframe thead th {\n",
       "        text-align: right;\n",
       "    }\n",
       "</style>\n",
       "<table border=\"1\" class=\"dataframe\">\n",
       "  <thead>\n",
       "    <tr style=\"text-align: right;\">\n",
       "      <th></th>\n",
       "      <th>mean_test_score</th>\n",
       "      <th>std_test_score</th>\n",
       "      <th>params</th>\n",
       "    </tr>\n",
       "  </thead>\n",
       "  <tbody>\n",
       "    <tr>\n",
       "      <th>0</th>\n",
       "      <td>0.761197</td>\n",
       "      <td>0.009481</td>\n",
       "      <td>{'gamma': 0.1}</td>\n",
       "    </tr>\n",
       "    <tr>\n",
       "      <th>1</th>\n",
       "      <td>0.761197</td>\n",
       "      <td>0.009481</td>\n",
       "      <td>{'gamma': 0.2}</td>\n",
       "    </tr>\n",
       "    <tr>\n",
       "      <th>2</th>\n",
       "      <td>0.761197</td>\n",
       "      <td>0.009481</td>\n",
       "      <td>{'gamma': 0.30000000000000004}</td>\n",
       "    </tr>\n",
       "    <tr>\n",
       "      <th>3</th>\n",
       "      <td>0.761197</td>\n",
       "      <td>0.009481</td>\n",
       "      <td>{'gamma': 0.4}</td>\n",
       "    </tr>\n",
       "  </tbody>\n",
       "</table>\n",
       "</div>"
      ],
      "text/plain": [
       "   mean_test_score  std_test_score                          params\n",
       "0         0.761197        0.009481                  {'gamma': 0.1}\n",
       "1         0.761197        0.009481                  {'gamma': 0.2}\n",
       "2         0.761197        0.009481  {'gamma': 0.30000000000000004}\n",
       "3         0.761197        0.009481                  {'gamma': 0.4}"
      ]
     },
     "execution_count": 319,
     "metadata": {},
     "output_type": "execute_result"
    }
   ],
   "source": [
    "print(gsearch1.best_params_, gsearch1.best_score_)\n",
    "pd.DataFrame(gsearch1.cv_results_)[['mean_test_score', 'std_test_score', 'params']].head(15)"
   ]
  },
  {
   "cell_type": "code",
   "execution_count": null,
   "metadata": {},
   "outputs": [],
   "source": []
  },
  {
   "cell_type": "markdown",
   "metadata": {},
   "source": [
    "### Next Params, we need the following range"
   ]
  },
  {
   "cell_type": "code",
   "execution_count": 320,
   "metadata": {},
   "outputs": [],
   "source": [
    "param_test1 = {\n",
    " 'gamma': np.arange(0.07, 0.12, 0.01)\n",
    "}\n",
    "gsearch1 = GridSearchCV(estimator = xgb.XGBClassifier( learning_rate =0.1, n_estimators=140, max_depth=2,\n",
    " min_child_weight=3, gamma=0, subsample=0.8, colsample_bytree=0.8,\n",
    " objective= 'binary:logistic', nthread=4, scale_pos_weight=1, seed=27), \n",
    " param_grid = param_test1, scoring='roc_auc',n_jobs=4,iid=False, cv=5)\n",
    "\n",
    "gsearch1.fit(with_team_train[predictors], with_team_train[target])\n",
    "pass"
   ]
  },
  {
   "cell_type": "code",
   "execution_count": 321,
   "metadata": {
    "scrolled": true
   },
   "outputs": [
    {
     "name": "stdout",
     "output_type": "stream",
     "text": [
      "{'gamma': 0.07} 0.7611968519795121\n"
     ]
    },
    {
     "data": {
      "text/html": [
       "<div>\n",
       "<style scoped>\n",
       "    .dataframe tbody tr th:only-of-type {\n",
       "        vertical-align: middle;\n",
       "    }\n",
       "\n",
       "    .dataframe tbody tr th {\n",
       "        vertical-align: top;\n",
       "    }\n",
       "\n",
       "    .dataframe thead th {\n",
       "        text-align: right;\n",
       "    }\n",
       "</style>\n",
       "<table border=\"1\" class=\"dataframe\">\n",
       "  <thead>\n",
       "    <tr style=\"text-align: right;\">\n",
       "      <th></th>\n",
       "      <th>mean_test_score</th>\n",
       "      <th>std_test_score</th>\n",
       "      <th>params</th>\n",
       "    </tr>\n",
       "  </thead>\n",
       "  <tbody>\n",
       "    <tr>\n",
       "      <th>0</th>\n",
       "      <td>0.761197</td>\n",
       "      <td>0.009481</td>\n",
       "      <td>{'gamma': 0.07}</td>\n",
       "    </tr>\n",
       "    <tr>\n",
       "      <th>1</th>\n",
       "      <td>0.761197</td>\n",
       "      <td>0.009481</td>\n",
       "      <td>{'gamma': 0.08}</td>\n",
       "    </tr>\n",
       "    <tr>\n",
       "      <th>2</th>\n",
       "      <td>0.761197</td>\n",
       "      <td>0.009481</td>\n",
       "      <td>{'gamma': 0.09}</td>\n",
       "    </tr>\n",
       "    <tr>\n",
       "      <th>3</th>\n",
       "      <td>0.761197</td>\n",
       "      <td>0.009481</td>\n",
       "      <td>{'gamma': 0.09999999999999999}</td>\n",
       "    </tr>\n",
       "    <tr>\n",
       "      <th>4</th>\n",
       "      <td>0.761197</td>\n",
       "      <td>0.009481</td>\n",
       "      <td>{'gamma': 0.10999999999999999}</td>\n",
       "    </tr>\n",
       "  </tbody>\n",
       "</table>\n",
       "</div>"
      ],
      "text/plain": [
       "   mean_test_score  std_test_score                          params\n",
       "0         0.761197        0.009481                 {'gamma': 0.07}\n",
       "1         0.761197        0.009481                 {'gamma': 0.08}\n",
       "2         0.761197        0.009481                 {'gamma': 0.09}\n",
       "3         0.761197        0.009481  {'gamma': 0.09999999999999999}\n",
       "4         0.761197        0.009481  {'gamma': 0.10999999999999999}"
      ]
     },
     "execution_count": 321,
     "metadata": {},
     "output_type": "execute_result"
    }
   ],
   "source": [
    "print(gsearch1.best_params_, gsearch1.best_score_)\n",
    "pd.DataFrame(gsearch1.cv_results_)[['mean_test_score', 'std_test_score', 'params']].head(15)"
   ]
  },
  {
   "cell_type": "markdown",
   "metadata": {},
   "source": [
    "### Next Params, we need the following range"
   ]
  },
  {
   "cell_type": "code",
   "execution_count": 328,
   "metadata": {},
   "outputs": [],
   "source": [
    "param_test1 = {\n",
    " 'gamma': np.arange(0.003, 0.005, 0.0005)\n",
    "}\n",
    "gsearch1 = GridSearchCV(estimator = xgb.XGBClassifier( learning_rate =0.1, n_estimators=140, max_depth=2,\n",
    " min_child_weight=3, gamma=0, subsample=0.8, colsample_bytree=0.8,\n",
    " objective= 'binary:logistic', nthread=4, scale_pos_weight=1, seed=27), \n",
    " param_grid = param_test1, scoring='roc_auc',n_jobs=4,iid=False, cv=5)\n",
    "\n",
    "gsearch1.fit(with_team_train[predictors], with_team_train[target])\n",
    "pass"
   ]
  },
  {
   "cell_type": "code",
   "execution_count": 329,
   "metadata": {
    "scrolled": false
   },
   "outputs": [
    {
     "name": "stdout",
     "output_type": "stream",
     "text": [
      "{'gamma': 0.004} 0.7611968519795121\n"
     ]
    },
    {
     "data": {
      "text/html": [
       "<div>\n",
       "<style scoped>\n",
       "    .dataframe tbody tr th:only-of-type {\n",
       "        vertical-align: middle;\n",
       "    }\n",
       "\n",
       "    .dataframe tbody tr th {\n",
       "        vertical-align: top;\n",
       "    }\n",
       "\n",
       "    .dataframe thead th {\n",
       "        text-align: right;\n",
       "    }\n",
       "</style>\n",
       "<table border=\"1\" class=\"dataframe\">\n",
       "  <thead>\n",
       "    <tr style=\"text-align: right;\">\n",
       "      <th></th>\n",
       "      <th>mean_test_score</th>\n",
       "      <th>std_test_score</th>\n",
       "      <th>params</th>\n",
       "    </tr>\n",
       "  </thead>\n",
       "  <tbody>\n",
       "    <tr>\n",
       "      <th>0</th>\n",
       "      <td>0.761195</td>\n",
       "      <td>0.009481</td>\n",
       "      <td>{'gamma': 0.003}</td>\n",
       "    </tr>\n",
       "    <tr>\n",
       "      <th>1</th>\n",
       "      <td>0.761195</td>\n",
       "      <td>0.009481</td>\n",
       "      <td>{'gamma': 0.0035}</td>\n",
       "    </tr>\n",
       "    <tr>\n",
       "      <th>2</th>\n",
       "      <td>0.761197</td>\n",
       "      <td>0.009481</td>\n",
       "      <td>{'gamma': 0.004}</td>\n",
       "    </tr>\n",
       "    <tr>\n",
       "      <th>3</th>\n",
       "      <td>0.761197</td>\n",
       "      <td>0.009481</td>\n",
       "      <td>{'gamma': 0.0045000000000000005}</td>\n",
       "    </tr>\n",
       "  </tbody>\n",
       "</table>\n",
       "</div>"
      ],
      "text/plain": [
       "   mean_test_score  std_test_score                            params\n",
       "0         0.761195        0.009481                  {'gamma': 0.003}\n",
       "1         0.761195        0.009481                 {'gamma': 0.0035}\n",
       "2         0.761197        0.009481                  {'gamma': 0.004}\n",
       "3         0.761197        0.009481  {'gamma': 0.0045000000000000005}"
      ]
     },
     "execution_count": 329,
     "metadata": {},
     "output_type": "execute_result"
    }
   ],
   "source": [
    "print(gsearch1.best_params_, gsearch1.best_score_)\n",
    "pd.DataFrame(gsearch1.cv_results_)[['mean_test_score', 'std_test_score', 'params']].head(15)"
   ]
  },
  {
   "cell_type": "markdown",
   "metadata": {},
   "source": [
    "### Re-calibrate numbers of boosting"
   ]
  },
  {
   "cell_type": "code",
   "execution_count": 363,
   "metadata": {},
   "outputs": [
    {
     "name": "stdout",
     "output_type": "stream",
     "text": [
      "\n",
      "Model Report\n",
      "Accuracy : 0.7572\n",
      "AUC Score (Train): 0.832301\n"
     ]
    },
    {
     "data": {
      "image/png": "[encoded data removed]",
      "text/plain": [
       "<Figure size 2160x1440 with 1 Axes>"
      ]
     },
     "metadata": {
      "needs_background": "light"
     },
     "output_type": "display_data"
    }
   ],
   "source": [
    "xgb2 = xgb.XGBClassifier(\n",
    " learning_rate =0.1,\n",
    " n_estimators=1000,\n",
    " max_depth=2,\n",
    " min_child_weight=3,\n",
    " gamma=0.004,\n",
    " subsample=0.8,\n",
    " colsample_bytree=0.8,\n",
    " objective= 'binary:logistic',\n",
    " nthread=4,\n",
    " scale_pos_weight=1,\n",
    " seed=27)\n",
    "modelfit(xgb1, with_team_train, predictors, target)"
   ]
  },
  {
   "cell_type": "markdown",
   "metadata": {},
   "source": [
    "#### FInals parameters:\n",
    "|Param | value |\n",
    "|------|------|\n",
    "| gamma | 0.004  |\n",
    "| max_depth | 2 | \n",
    "| min_child_weight | 3 | "
   ]
  },
  {
   "cell_type": "markdown",
   "metadata": {},
   "source": [
    "## Tune subsample and colsample_bytree"
   ]
  },
  {
   "cell_type": "code",
   "execution_count": 340,
   "metadata": {},
   "outputs": [],
   "source": [
    "param_test1 = {\n",
    " 'subsample':[i/10.0 for i in range(6,10)],\n",
    " 'colsample_bytree':[i/10.0 for i in range(6,10)]\n",
    "}\n",
    "gsearch1 = GridSearchCV(estimator = xgb.XGBClassifier( learning_rate =0.1, n_estimators=140, max_depth=2,\n",
    " min_child_weight=3, gamma=0.004, subsample=0.8, colsample_bytree=0.8,\n",
    " objective= 'binary:logistic', nthread=4, scale_pos_weight=1, seed=27), \n",
    " param_grid = param_test1, scoring='roc_auc',n_jobs=4,iid=False, cv=5)\n",
    "\n",
    "gsearch1.fit(with_team_train[predictors], with_team_train[target])\n",
    "pass"
   ]
  },
  {
   "cell_type": "code",
   "execution_count": 343,
   "metadata": {
    "scrolled": false
   },
   "outputs": [
    {
     "name": "stdout",
     "output_type": "stream",
     "text": [
      "{'colsample_bytree': 0.8, 'subsample': 0.7} 0.7623618127433605\n"
     ]
    },
    {
     "data": {
      "text/html": [
       "<div>\n",
       "<style scoped>\n",
       "    .dataframe tbody tr th:only-of-type {\n",
       "        vertical-align: middle;\n",
       "    }\n",
       "\n",
       "    .dataframe tbody tr th {\n",
       "        vertical-align: top;\n",
       "    }\n",
       "\n",
       "    .dataframe thead th {\n",
       "        text-align: right;\n",
       "    }\n",
       "</style>\n",
       "<table border=\"1\" class=\"dataframe\">\n",
       "  <thead>\n",
       "    <tr style=\"text-align: right;\">\n",
       "      <th></th>\n",
       "      <th>mean_test_score</th>\n",
       "      <th>std_test_score</th>\n",
       "      <th>params</th>\n",
       "    </tr>\n",
       "  </thead>\n",
       "  <tbody>\n",
       "    <tr>\n",
       "      <th>0</th>\n",
       "      <td>0.761100</td>\n",
       "      <td>0.008565</td>\n",
       "      <td>{'colsample_bytree': 0.6, 'subsample': 0.6}</td>\n",
       "    </tr>\n",
       "    <tr>\n",
       "      <th>1</th>\n",
       "      <td>0.761587</td>\n",
       "      <td>0.011197</td>\n",
       "      <td>{'colsample_bytree': 0.6, 'subsample': 0.7}</td>\n",
       "    </tr>\n",
       "    <tr>\n",
       "      <th>2</th>\n",
       "      <td>0.760189</td>\n",
       "      <td>0.009930</td>\n",
       "      <td>{'colsample_bytree': 0.6, 'subsample': 0.8}</td>\n",
       "    </tr>\n",
       "    <tr>\n",
       "      <th>3</th>\n",
       "      <td>0.759891</td>\n",
       "      <td>0.011149</td>\n",
       "      <td>{'colsample_bytree': 0.6, 'subsample': 0.9}</td>\n",
       "    </tr>\n",
       "    <tr>\n",
       "      <th>4</th>\n",
       "      <td>0.761200</td>\n",
       "      <td>0.009099</td>\n",
       "      <td>{'colsample_bytree': 0.7, 'subsample': 0.6}</td>\n",
       "    </tr>\n",
       "    <tr>\n",
       "      <th>5</th>\n",
       "      <td>0.761578</td>\n",
       "      <td>0.010348</td>\n",
       "      <td>{'colsample_bytree': 0.7, 'subsample': 0.7}</td>\n",
       "    </tr>\n",
       "    <tr>\n",
       "      <th>6</th>\n",
       "      <td>0.760050</td>\n",
       "      <td>0.010798</td>\n",
       "      <td>{'colsample_bytree': 0.7, 'subsample': 0.8}</td>\n",
       "    </tr>\n",
       "    <tr>\n",
       "      <th>7</th>\n",
       "      <td>0.759513</td>\n",
       "      <td>0.010045</td>\n",
       "      <td>{'colsample_bytree': 0.7, 'subsample': 0.9}</td>\n",
       "    </tr>\n",
       "    <tr>\n",
       "      <th>8</th>\n",
       "      <td>0.761185</td>\n",
       "      <td>0.009665</td>\n",
       "      <td>{'colsample_bytree': 0.8, 'subsample': 0.6}</td>\n",
       "    </tr>\n",
       "    <tr>\n",
       "      <th>9</th>\n",
       "      <td>0.762362</td>\n",
       "      <td>0.010166</td>\n",
       "      <td>{'colsample_bytree': 0.8, 'subsample': 0.7}</td>\n",
       "    </tr>\n",
       "    <tr>\n",
       "      <th>10</th>\n",
       "      <td>0.761197</td>\n",
       "      <td>0.009481</td>\n",
       "      <td>{'colsample_bytree': 0.8, 'subsample': 0.8}</td>\n",
       "    </tr>\n",
       "    <tr>\n",
       "      <th>11</th>\n",
       "      <td>0.760584</td>\n",
       "      <td>0.009801</td>\n",
       "      <td>{'colsample_bytree': 0.8, 'subsample': 0.9}</td>\n",
       "    </tr>\n",
       "    <tr>\n",
       "      <th>12</th>\n",
       "      <td>0.760557</td>\n",
       "      <td>0.009121</td>\n",
       "      <td>{'colsample_bytree': 0.9, 'subsample': 0.6}</td>\n",
       "    </tr>\n",
       "    <tr>\n",
       "      <th>13</th>\n",
       "      <td>0.760276</td>\n",
       "      <td>0.009980</td>\n",
       "      <td>{'colsample_bytree': 0.9, 'subsample': 0.7}</td>\n",
       "    </tr>\n",
       "    <tr>\n",
       "      <th>14</th>\n",
       "      <td>0.759534</td>\n",
       "      <td>0.009797</td>\n",
       "      <td>{'colsample_bytree': 0.9, 'subsample': 0.8}</td>\n",
       "    </tr>\n",
       "    <tr>\n",
       "      <th>15</th>\n",
       "      <td>0.760432</td>\n",
       "      <td>0.010729</td>\n",
       "      <td>{'colsample_bytree': 0.9, 'subsample': 0.9}</td>\n",
       "    </tr>\n",
       "  </tbody>\n",
       "</table>\n",
       "</div>"
      ],
      "text/plain": [
       "    mean_test_score  std_test_score  \\\n",
       "0          0.761100        0.008565   \n",
       "1          0.761587        0.011197   \n",
       "2          0.760189        0.009930   \n",
       "3          0.759891        0.011149   \n",
       "4          0.761200        0.009099   \n",
       "5          0.761578        0.010348   \n",
       "6          0.760050        0.010798   \n",
       "7          0.759513        0.010045   \n",
       "8          0.761185        0.009665   \n",
       "9          0.762362        0.010166   \n",
       "10         0.761197        0.009481   \n",
       "11         0.760584        0.009801   \n",
       "12         0.760557        0.009121   \n",
       "13         0.760276        0.009980   \n",
       "14         0.759534        0.009797   \n",
       "15         0.760432        0.010729   \n",
       "\n",
       "                                         params  \n",
       "0   {'colsample_bytree': 0.6, 'subsample': 0.6}  \n",
       "1   {'colsample_bytree': 0.6, 'subsample': 0.7}  \n",
       "2   {'colsample_bytree': 0.6, 'subsample': 0.8}  \n",
       "3   {'colsample_bytree': 0.6, 'subsample': 0.9}  \n",
       "4   {'colsample_bytree': 0.7, 'subsample': 0.6}  \n",
       "5   {'colsample_bytree': 0.7, 'subsample': 0.7}  \n",
       "6   {'colsample_bytree': 0.7, 'subsample': 0.8}  \n",
       "7   {'colsample_bytree': 0.7, 'subsample': 0.9}  \n",
       "8   {'colsample_bytree': 0.8, 'subsample': 0.6}  \n",
       "9   {'colsample_bytree': 0.8, 'subsample': 0.7}  \n",
       "10  {'colsample_bytree': 0.8, 'subsample': 0.8}  \n",
       "11  {'colsample_bytree': 0.8, 'subsample': 0.9}  \n",
       "12  {'colsample_bytree': 0.9, 'subsample': 0.6}  \n",
       "13  {'colsample_bytree': 0.9, 'subsample': 0.7}  \n",
       "14  {'colsample_bytree': 0.9, 'subsample': 0.8}  \n",
       "15  {'colsample_bytree': 0.9, 'subsample': 0.9}  "
      ]
     },
     "execution_count": 343,
     "metadata": {},
     "output_type": "execute_result"
    }
   ],
   "source": [
    "print(gsearch1.best_params_, gsearch1.best_score_)\n",
    "pd.DataFrame(gsearch1.cv_results_)[['mean_test_score', 'std_test_score', 'params']].head(17)"
   ]
  },
  {
   "cell_type": "markdown",
   "metadata": {},
   "source": [
    "### Next Params, we need the following range"
   ]
  },
  {
   "cell_type": "code",
   "execution_count": 350,
   "metadata": {},
   "outputs": [],
   "source": [
    "param_test1 = {\n",
    " 'subsample':[i/100.0 for i in range(65,80,5)],\n",
    " 'colsample_bytree':[i/100.0 for i in range(70,80,5)]\n",
    "}\n",
    "gsearch1 = GridSearchCV(estimator = xgb.XGBClassifier( learning_rate =0.1, n_estimators=140, max_depth=2,\n",
    " min_child_weight=3, gamma=0.004, subsample=0.8, colsample_bytree=0.8,\n",
    " objective= 'binary:logistic', nthread=4, scale_pos_weight=1, seed=27), \n",
    " param_grid = param_test1, scoring='roc_auc',n_jobs=4,iid=False, cv=5)\n",
    "\n",
    "gsearch1.fit(with_team_train[predictors], with_team_train[target])\n",
    "pass"
   ]
  },
  {
   "cell_type": "code",
   "execution_count": 349,
   "metadata": {
    "scrolled": false
   },
   "outputs": [
    {
     "name": "stdout",
     "output_type": "stream",
     "text": [
      "{'colsample_bytree': 0.75, 'subsample': 0.65} 0.7623804599907149\n"
     ]
    },
    {
     "data": {
      "text/html": [
       "<div>\n",
       "<style scoped>\n",
       "    .dataframe tbody tr th:only-of-type {\n",
       "        vertical-align: middle;\n",
       "    }\n",
       "\n",
       "    .dataframe tbody tr th {\n",
       "        vertical-align: top;\n",
       "    }\n",
       "\n",
       "    .dataframe thead th {\n",
       "        text-align: right;\n",
       "    }\n",
       "</style>\n",
       "<table border=\"1\" class=\"dataframe\">\n",
       "  <thead>\n",
       "    <tr style=\"text-align: right;\">\n",
       "      <th></th>\n",
       "      <th>mean_test_score</th>\n",
       "      <th>std_test_score</th>\n",
       "      <th>params</th>\n",
       "    </tr>\n",
       "  </thead>\n",
       "  <tbody>\n",
       "    <tr>\n",
       "      <th>0</th>\n",
       "      <td>0.761200</td>\n",
       "      <td>0.009099</td>\n",
       "      <td>{'colsample_bytree': 0.7, 'subsample': 0.6}</td>\n",
       "    </tr>\n",
       "    <tr>\n",
       "      <th>1</th>\n",
       "      <td>0.761199</td>\n",
       "      <td>0.009851</td>\n",
       "      <td>{'colsample_bytree': 0.7, 'subsample': 0.65}</td>\n",
       "    </tr>\n",
       "    <tr>\n",
       "      <th>2</th>\n",
       "      <td>0.761578</td>\n",
       "      <td>0.010348</td>\n",
       "      <td>{'colsample_bytree': 0.7, 'subsample': 0.7}</td>\n",
       "    </tr>\n",
       "    <tr>\n",
       "      <th>3</th>\n",
       "      <td>0.760636</td>\n",
       "      <td>0.008598</td>\n",
       "      <td>{'colsample_bytree': 0.75, 'subsample': 0.6}</td>\n",
       "    </tr>\n",
       "    <tr>\n",
       "      <th>4</th>\n",
       "      <td>0.762380</td>\n",
       "      <td>0.008518</td>\n",
       "      <td>{'colsample_bytree': 0.75, 'subsample': 0.65}</td>\n",
       "    </tr>\n",
       "    <tr>\n",
       "      <th>5</th>\n",
       "      <td>0.761460</td>\n",
       "      <td>0.009541</td>\n",
       "      <td>{'colsample_bytree': 0.75, 'subsample': 0.7}</td>\n",
       "    </tr>\n",
       "  </tbody>\n",
       "</table>\n",
       "</div>"
      ],
      "text/plain": [
       "   mean_test_score  std_test_score  \\\n",
       "0         0.761200        0.009099   \n",
       "1         0.761199        0.009851   \n",
       "2         0.761578        0.010348   \n",
       "3         0.760636        0.008598   \n",
       "4         0.762380        0.008518   \n",
       "5         0.761460        0.009541   \n",
       "\n",
       "                                          params  \n",
       "0    {'colsample_bytree': 0.7, 'subsample': 0.6}  \n",
       "1   {'colsample_bytree': 0.7, 'subsample': 0.65}  \n",
       "2    {'colsample_bytree': 0.7, 'subsample': 0.7}  \n",
       "3   {'colsample_bytree': 0.75, 'subsample': 0.6}  \n",
       "4  {'colsample_bytree': 0.75, 'subsample': 0.65}  \n",
       "5   {'colsample_bytree': 0.75, 'subsample': 0.7}  "
      ]
     },
     "execution_count": 349,
     "metadata": {},
     "output_type": "execute_result"
    }
   ],
   "source": [
    "print(gsearch1.best_params_, gsearch1.best_score_)\n",
    "pd.DataFrame(gsearch1.cv_results_)[['mean_test_score', 'std_test_score', 'params']].head(17)"
   ]
  },
  {
   "cell_type": "markdown",
   "metadata": {},
   "source": [
    "#### FInals parameters:\n",
    "|Param | value |\n",
    "|------|------|\n",
    "| gamma | 0.004  |\n",
    "| max_depth | 2 | \n",
    "| min_child_weight | 3 | \n",
    "|colsample_bytree| 0.75|\n",
    "|subsample| 0.65"
   ]
  },
  {
   "cell_type": "markdown",
   "metadata": {},
   "source": [
    "##  Tuning Regularization Parameters"
   ]
  },
  {
   "cell_type": "code",
   "execution_count": 351,
   "metadata": {},
   "outputs": [],
   "source": [
    "param_test1 = {\n",
    " 'reg_alpha': [1e-5, 1e-2, 0.1, 1, 100]\n",
    "}\n",
    "gsearch1 = GridSearchCV(estimator = xgb.XGBClassifier( learning_rate =0.1, n_estimators=140, max_depth=2,\n",
    " min_child_weight=3, gamma=0.004, subsample=0.65, colsample_bytree=0.75,\n",
    " objective= 'binary:logistic', nthread=4, scale_pos_weight=1, seed=27), \n",
    " param_grid = param_test1, scoring='roc_auc',n_jobs=4,iid=False, cv=5)\n",
    "\n",
    "gsearch1.fit(with_team_train[predictors], with_team_train[target])\n",
    "pass"
   ]
  },
  {
   "cell_type": "code",
   "execution_count": 352,
   "metadata": {
    "scrolled": false
   },
   "outputs": [
    {
     "name": "stdout",
     "output_type": "stream",
     "text": [
      "{'reg_alpha': 1e-05} 0.7623804599907149\n"
     ]
    },
    {
     "data": {
      "text/html": [
       "<div>\n",
       "<style scoped>\n",
       "    .dataframe tbody tr th:only-of-type {\n",
       "        vertical-align: middle;\n",
       "    }\n",
       "\n",
       "    .dataframe tbody tr th {\n",
       "        vertical-align: top;\n",
       "    }\n",
       "\n",
       "    .dataframe thead th {\n",
       "        text-align: right;\n",
       "    }\n",
       "</style>\n",
       "<table border=\"1\" class=\"dataframe\">\n",
       "  <thead>\n",
       "    <tr style=\"text-align: right;\">\n",
       "      <th></th>\n",
       "      <th>mean_test_score</th>\n",
       "      <th>std_test_score</th>\n",
       "      <th>params</th>\n",
       "    </tr>\n",
       "  </thead>\n",
       "  <tbody>\n",
       "    <tr>\n",
       "      <th>0</th>\n",
       "      <td>0.762380</td>\n",
       "      <td>0.008518</td>\n",
       "      <td>{'reg_alpha': 1e-05}</td>\n",
       "    </tr>\n",
       "    <tr>\n",
       "      <th>1</th>\n",
       "      <td>0.762368</td>\n",
       "      <td>0.008783</td>\n",
       "      <td>{'reg_alpha': 0.01}</td>\n",
       "    </tr>\n",
       "    <tr>\n",
       "      <th>2</th>\n",
       "      <td>0.761742</td>\n",
       "      <td>0.009114</td>\n",
       "      <td>{'reg_alpha': 0.1}</td>\n",
       "    </tr>\n",
       "    <tr>\n",
       "      <th>3</th>\n",
       "      <td>0.761577</td>\n",
       "      <td>0.009498</td>\n",
       "      <td>{'reg_alpha': 1}</td>\n",
       "    </tr>\n",
       "    <tr>\n",
       "      <th>4</th>\n",
       "      <td>0.751898</td>\n",
       "      <td>0.011161</td>\n",
       "      <td>{'reg_alpha': 100}</td>\n",
       "    </tr>\n",
       "  </tbody>\n",
       "</table>\n",
       "</div>"
      ],
      "text/plain": [
       "   mean_test_score  std_test_score                params\n",
       "0         0.762380        0.008518  {'reg_alpha': 1e-05}\n",
       "1         0.762368        0.008783   {'reg_alpha': 0.01}\n",
       "2         0.761742        0.009114    {'reg_alpha': 0.1}\n",
       "3         0.761577        0.009498      {'reg_alpha': 1}\n",
       "4         0.751898        0.011161    {'reg_alpha': 100}"
      ]
     },
     "execution_count": 352,
     "metadata": {},
     "output_type": "execute_result"
    }
   ],
   "source": [
    "print(gsearch1.best_params_, gsearch1.best_score_)\n",
    "pd.DataFrame(gsearch1.cv_results_)[['mean_test_score', 'std_test_score', 'params']].head(17)"
   ]
  },
  {
   "cell_type": "markdown",
   "metadata": {},
   "source": [
    "### Next Params, we need the following range"
   ]
  },
  {
   "cell_type": "code",
   "execution_count": 359,
   "metadata": {},
   "outputs": [],
   "source": [
    "param_test1 = {\n",
    " 'reg_alpha': np.arange(5e-6, 1.1e-5, 1e-6)\n",
    "}\n",
    "gsearch1 = GridSearchCV(estimator = xgb.XGBClassifier( learning_rate =0.1, n_estimators=140, max_depth=2,\n",
    " min_child_weight=3, gamma=0.004, subsample=0.65, colsample_bytree=0.75,\n",
    " objective= 'binary:logistic', nthread=4, scale_pos_weight=1, seed=27), \n",
    " param_grid = param_test1, scoring='roc_auc',n_jobs=4,iid=False, cv=5)\n",
    "\n",
    "gsearch1.fit(with_team_train[predictors], with_team_train[target])\n",
    "pass"
   ]
  },
  {
   "cell_type": "code",
   "execution_count": 360,
   "metadata": {
    "scrolled": false
   },
   "outputs": [
    {
     "name": "stdout",
     "output_type": "stream",
     "text": [
      "{'reg_alpha': 5e-06} 0.7623804599907149\n"
     ]
    },
    {
     "data": {
      "text/html": [
       "<div>\n",
       "<style scoped>\n",
       "    .dataframe tbody tr th:only-of-type {\n",
       "        vertical-align: middle;\n",
       "    }\n",
       "\n",
       "    .dataframe tbody tr th {\n",
       "        vertical-align: top;\n",
       "    }\n",
       "\n",
       "    .dataframe thead th {\n",
       "        text-align: right;\n",
       "    }\n",
       "</style>\n",
       "<table border=\"1\" class=\"dataframe\">\n",
       "  <thead>\n",
       "    <tr style=\"text-align: right;\">\n",
       "      <th></th>\n",
       "      <th>mean_test_score</th>\n",
       "      <th>std_test_score</th>\n",
       "      <th>params</th>\n",
       "    </tr>\n",
       "  </thead>\n",
       "  <tbody>\n",
       "    <tr>\n",
       "      <th>0</th>\n",
       "      <td>0.76238</td>\n",
       "      <td>0.008518</td>\n",
       "      <td>{'reg_alpha': 5e-06}</td>\n",
       "    </tr>\n",
       "    <tr>\n",
       "      <th>1</th>\n",
       "      <td>0.76238</td>\n",
       "      <td>0.008518</td>\n",
       "      <td>{'reg_alpha': 6e-06}</td>\n",
       "    </tr>\n",
       "    <tr>\n",
       "      <th>2</th>\n",
       "      <td>0.76238</td>\n",
       "      <td>0.008518</td>\n",
       "      <td>{'reg_alpha': 7e-06}</td>\n",
       "    </tr>\n",
       "    <tr>\n",
       "      <th>3</th>\n",
       "      <td>0.76238</td>\n",
       "      <td>0.008518</td>\n",
       "      <td>{'reg_alpha': 8e-06}</td>\n",
       "    </tr>\n",
       "    <tr>\n",
       "      <th>4</th>\n",
       "      <td>0.76238</td>\n",
       "      <td>0.008518</td>\n",
       "      <td>{'reg_alpha': 8.999999999999999e-06}</td>\n",
       "    </tr>\n",
       "    <tr>\n",
       "      <th>5</th>\n",
       "      <td>0.76238</td>\n",
       "      <td>0.008518</td>\n",
       "      <td>{'reg_alpha': 9.999999999999999e-06}</td>\n",
       "    </tr>\n",
       "  </tbody>\n",
       "</table>\n",
       "</div>"
      ],
      "text/plain": [
       "   mean_test_score  std_test_score                                params\n",
       "0          0.76238        0.008518                  {'reg_alpha': 5e-06}\n",
       "1          0.76238        0.008518                  {'reg_alpha': 6e-06}\n",
       "2          0.76238        0.008518                  {'reg_alpha': 7e-06}\n",
       "3          0.76238        0.008518                  {'reg_alpha': 8e-06}\n",
       "4          0.76238        0.008518  {'reg_alpha': 8.999999999999999e-06}\n",
       "5          0.76238        0.008518  {'reg_alpha': 9.999999999999999e-06}"
      ]
     },
     "execution_count": 360,
     "metadata": {},
     "output_type": "execute_result"
    }
   ],
   "source": [
    "print(gsearch1.best_params_, gsearch1.best_score_)\n",
    "pd.DataFrame(gsearch1.cv_results_)[['mean_test_score', 'std_test_score', 'params']].head(17)"
   ]
  },
  {
   "cell_type": "markdown",
   "metadata": {},
   "source": [
    "#### FInals parameters:\n",
    "|Param | value |\n",
    "|------|------|\n",
    "| gamma | 0.004  |\n",
    "| max_depth | 2 | \n",
    "| min_child_weight | 3 | \n",
    "|colsample_bytree| 0.75|\n",
    "|subsample| 0.65|\n",
    "|reg_alpha | 5e-06|"
   ]
  },
  {
   "cell_type": "markdown",
   "metadata": {},
   "source": [
    "### Re-calibrate numbers of boosting"
   ]
  },
  {
   "cell_type": "code",
   "execution_count": 362,
   "metadata": {},
   "outputs": [
    {
     "name": "stdout",
     "output_type": "stream",
     "text": [
      "\n",
      "Model Report\n",
      "Accuracy : 0.7572\n",
      "AUC Score (Train): 0.832301\n"
     ]
    },
    {
     "data": {
      "image/png": "[encoded data removed]",
      "text/plain": [
       "<Figure size 2160x1440 with 1 Axes>"
      ]
     },
     "metadata": {
      "needs_background": "light"
     },
     "output_type": "display_data"
    }
   ],
   "source": [
    "xgb2 = xgb.XGBClassifier(\n",
    " learning_rate =0.1,\n",
    " n_estimators=1000,\n",
    " max_depth=2,\n",
    " min_child_weight=3,\n",
    " gamma=0.004,\n",
    " subsample=0.65,\n",
    " colsample_bytree=0.75,\n",
    " reg_alpha=5e-06,\n",
    " objective= 'binary:logistic',\n",
    " nthread=4,\n",
    " scale_pos_weight=1,\n",
    " seed=27)\n",
    "modelfit(xgb1, with_team_train, predictors, target)"
   ]
  },
  {
   "cell_type": "markdown",
   "metadata": {},
   "source": [
    "## Reducing Learning Rate"
   ]
  },
  {
   "cell_type": "code",
   "execution_count": 368,
   "metadata": {},
   "outputs": [
    {
     "name": "stdout",
     "output_type": "stream",
     "text": [
      "\n",
      "Model Report\n",
      "Accuracy : 0.7572\n",
      "AUC Score (Train): 0.832301\n"
     ]
    },
    {
     "data": {
      "image/png": "[encoded data removed]",
      "text/plain": [
       "<Figure size 2160x1440 with 1 Axes>"
      ]
     },
     "metadata": {
      "needs_background": "light"
     },
     "output_type": "display_data"
    }
   ],
   "source": [
    "xgb2 = xgb.XGBClassifier(\n",
    " learning_rate =0.1,\n",
    " n_estimators=5000,\n",
    " max_depth=2,\n",
    " min_child_weight=3,\n",
    " gamma=0.004,\n",
    " subsample=0.65,\n",
    " colsample_bytree=0.75,\n",
    " reg_alpha=5e-06,\n",
    " objective= 'binary:logistic',\n",
    " nthread=4,\n",
    " scale_pos_weight=1,\n",
    " seed=27)\n",
    "modelfit(xgb1, with_team_train, predictors, target)"
   ]
  },
  {
   "cell_type": "markdown",
   "metadata": {},
   "source": [
    "##  Let's try apply it to the xgb "
   ]
  },
  {
   "cell_type": "code",
   "execution_count": 369,
   "metadata": {},
   "outputs": [
    {
     "data": {
      "text/plain": [
       "XGBClassifier(base_score=0.5, booster='gbtree', colsample_bylevel=1,\n",
       "       colsample_bytree=0.75, gamma=0.004, learning_rate=0.1,\n",
       "       max_delta_step=0, max_depth=2, min_child_weight=3, missing=None,\n",
       "       n_estimators=5000, n_jobs=1, nthread=4, objective='binary:logistic',\n",
       "       random_state=0, reg_alpha=5e-06, reg_lambda=1, scale_pos_weight=1,\n",
       "       seed=27, silent=True, subsample=0.65)"
      ]
     },
     "execution_count": 369,
     "metadata": {},
     "output_type": "execute_result"
    }
   ],
   "source": [
    "xgb_tree_tune = xgb.XGBClassifier(\n",
    "                             learning_rate =0.1,\n",
    "                             n_estimators=5000,\n",
    "                             max_depth=2,\n",
    "                             min_child_weight=3,\n",
    "                             gamma=0.004,\n",
    "                             subsample=0.65,\n",
    "                             colsample_bytree=0.75,\n",
    "                             reg_alpha=5e-06,\n",
    "                             objective= 'binary:logistic',\n",
    "                             nthread=4,\n",
    "                             scale_pos_weight=1,\n",
    "                             seed=27)\n",
    "\n",
    "xgb_tree_tune.fit(X_train_wt, Y_train_wt, n_jobs=-1)"
   ]
  },
  {
   "cell_type": "code",
   "execution_count": 377,
   "metadata": {},
   "outputs": [],
   "source": [
    "xgb_tune_pred_tr = xgb_model_pred(xgb_tree_tune, X_train_wt)\n",
    "xgb_tune_pred_te = xgb_model_pred(xgb_tree_tune, X_test_wt)\n",
    "xgb_tune_pred_val = xgb_model_pred(xgb_tree_tune, X_valid_wt)\n",
    "\n",
    "xgb_tune_proba_tr = xgb_model_pred_proba(xgb_tree_tune, X_train_wt)\n",
    "xgb_tune_proba_te = xgb_model_pred_proba(xgb_tree_tune, X_test_wt)\n",
    "xgb_tune_proba_val = xgb_model_pred_proba(xgb_tree_tune, X_valid_wt)\n",
    "\n",
    "xgb_tune_proba_fin = xgb_model_pred_proba(xgb_tree_tune, train_with_team_test)"
   ]
  },
  {
   "cell_type": "code",
   "execution_count": 378,
   "metadata": {},
   "outputs": [
    {
     "name": "stdout",
     "output_type": "stream",
     "text": [
      "Predict\n",
      "roc auc score:  1.0\n",
      "roc auc score:  0.6515691776855188\n",
      "roc auc score:  0.6618237280657095\n",
      "Predict_proba\n",
      "roc auc score:  1.0\n",
      "roc auc score:  0.7226626447686617\n",
      "roc auc score:  0.7204205274411974\n"
     ]
    }
   ],
   "source": [
    "print('Predict')\n",
    "roc_score_get(Y_train_wt, xgb_tune_pred_tr)\n",
    "roc_score_get(Y_test_wt, xgb_tune_pred_te)\n",
    "roc_score_get(Y_valid_wt, xgb_tune_pred_val)\n",
    "print('Predict_proba')\n",
    "roc_score_get(Y_train_wt, xgb_tune_proba_tr)\n",
    "roc_score_get(Y_test_wt, xgb_tune_proba_te)\n",
    "roc_score_get(Y_valid_wt, xgb_tune_proba_val)"
   ]
  },
  {
   "cell_type": "markdown",
   "metadata": {},
   "source": [
    "## Output data"
   ]
  },
  {
   "cell_type": "code",
   "execution_count": 571,
   "metadata": {},
   "outputs": [
    {
     "data": {
      "text/html": [
       "<div>\n",
       "<style scoped>\n",
       "    .dataframe tbody tr th:only-of-type {\n",
       "        vertical-align: middle;\n",
       "    }\n",
       "\n",
       "    .dataframe tbody tr th {\n",
       "        vertical-align: top;\n",
       "    }\n",
       "\n",
       "    .dataframe thead th {\n",
       "        text-align: right;\n",
       "    }\n",
       "</style>\n",
       "<table border=\"1\" class=\"dataframe\">\n",
       "  <thead>\n",
       "    <tr style=\"text-align: right;\">\n",
       "      <th></th>\n",
       "      <th>win_team</th>\n",
       "    </tr>\n",
       "    <tr>\n",
       "      <th>id</th>\n",
       "      <th></th>\n",
       "    </tr>\n",
       "  </thead>\n",
       "  <tbody>\n",
       "    <tr>\n",
       "      <th>0</th>\n",
       "      <td>0.675765</td>\n",
       "    </tr>\n",
       "  </tbody>\n",
       "</table>\n",
       "</div>"
      ],
      "text/plain": [
       "    win_team\n",
       "id          \n",
       "0   0.675765"
      ]
     },
     "execution_count": 571,
     "metadata": {},
     "output_type": "execute_result"
    }
   ],
   "source": [
    "#final_data = pd.DataFrame(np.vstack((df_test_fe.index, xgb_m_wt_proba_fin)).T)\n",
    "final_data = pd.DataFrame(xgb_es_wt_proba_fin.T, index = df_test_fe.index)\n",
    "#final_data.columns = ['id', 'win_team']\n",
    "final_data.columns = ['win_team']\n",
    "final_data.head(1)"
   ]
  },
  {
   "cell_type": "code",
   "execution_count": 572,
   "metadata": {},
   "outputs": [
    {
     "data": {
      "text/html": [
       "<div>\n",
       "<style scoped>\n",
       "    .dataframe tbody tr th:only-of-type {\n",
       "        vertical-align: middle;\n",
       "    }\n",
       "\n",
       "    .dataframe tbody tr th {\n",
       "        vertical-align: top;\n",
       "    }\n",
       "\n",
       "    .dataframe thead th {\n",
       "        text-align: right;\n",
       "    }\n",
       "</style>\n",
       "<table border=\"1\" class=\"dataframe\">\n",
       "  <thead>\n",
       "    <tr style=\"text-align: right;\">\n",
       "      <th></th>\n",
       "      <th>win_team</th>\n",
       "    </tr>\n",
       "    <tr>\n",
       "      <th>id</th>\n",
       "      <th></th>\n",
       "    </tr>\n",
       "  </thead>\n",
       "  <tbody>\n",
       "    <tr>\n",
       "      <th>0</th>\n",
       "      <td>0.675765</td>\n",
       "    </tr>\n",
       "    <tr>\n",
       "      <th>1</th>\n",
       "      <td>0.927562</td>\n",
       "    </tr>\n",
       "    <tr>\n",
       "      <th>2</th>\n",
       "      <td>0.523276</td>\n",
       "    </tr>\n",
       "    <tr>\n",
       "      <th>3</th>\n",
       "      <td>0.383117</td>\n",
       "    </tr>\n",
       "    <tr>\n",
       "      <th>4</th>\n",
       "      <td>0.256088</td>\n",
       "    </tr>\n",
       "  </tbody>\n",
       "</table>\n",
       "</div>"
      ],
      "text/plain": [
       "    win_team\n",
       "id          \n",
       "0   0.675765\n",
       "1   0.927562\n",
       "2   0.523276\n",
       "3   0.383117\n",
       "4   0.256088"
      ]
     },
     "execution_count": 572,
     "metadata": {},
     "output_type": "execute_result"
    }
   ],
   "source": [
    "final_data.to_csv('FootballCompetition_05.05.2018_13:21.csv', index='False')\n",
    "final_data.head()"
   ]
  },
  {
   "cell_type": "code",
   "execution_count": null,
   "metadata": {},
   "outputs": [],
   "source": []
  }
 ],
 "metadata": {
  "kernelspec": {
   "display_name": "Python 3",
   "language": "python",
   "name": "python3"
  },
  "language_info": {
   "codemirror_mode": {
    "name": "ipython",
    "version": 3
   },
   "file_extension": ".py",
   "mimetype": "text/x-python",
   "name": "python",
   "nbconvert_exporter": "python",
   "pygments_lexer": "ipython3",
   "version": "3.6.8"
  }
 },
 "nbformat": 4,
 "nbformat_minor": 2
}
